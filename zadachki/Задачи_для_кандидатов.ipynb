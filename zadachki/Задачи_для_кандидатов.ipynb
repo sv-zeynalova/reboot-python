{
 "cells": [
  {
   "cell_type": "markdown",
   "metadata": {},
   "source": [
    "Задания необходимо оформить в формате ipython-notebook (.ipynb). На code style будет так же обращено внимание."
   ]
  },
  {
   "cell_type": "markdown",
   "metadata": {},
   "source": [
    "### Задача #1 - Python\n",
    "- На языке python 3 версии и новее и без использования сторонних библиотек напишите функцию, считывающую с пользовательского ввода целое неотрицательное число $n$, а затем выводящую это число в ячейку вместе с преобразованным словом \"программист\". $ 0 <= n <= 1000$. Например: 0 программистов, 4 программиста, 11 программистов."
   ]
  },
  {
   "cell_type": "code",
   "execution_count": null,
   "metadata": {},
   "outputs": [],
   "source": []
  },
  {
   "cell_type": "markdown",
   "metadata": {},
   "source": [
    "### Задача #2 - SQL\n",
    "Даны таблицы:\n",
    "- DEPARTMENTS, с полями: ID (int, pk), NAME (string)\n",
    "- STAFF, с полями: ID (int, pk), ID_LEAD (int), ID_DEP (int), NAME (string), SALARY (float).\n",
    "<br> Таблицы DEPARTMENTS и STAFF связаны с помощью полей DEPARTMENTS.ID и STAFF.ID_DEP\n",
    "\n",
    "Напишите SQL запрос для решения следующих задач:\n",
    "- Выведите наименование отдела с наибольшим числом сотрудников\n",
    "- Выведите ID сотрудников с зарплатой выше, чем у руководителя\n",
    "- Выведите ID отделов, число сотрудников в которых меньше 3 человек"
   ]
  },
  {
   "cell_type": "code",
   "execution_count": 20,
   "metadata": {},
   "outputs": [
    {
     "data": {
      "text/html": [
       "<div>\n",
       "<style scoped>\n",
       "    .dataframe tbody tr th:only-of-type {\n",
       "        vertical-align: middle;\n",
       "    }\n",
       "\n",
       "    .dataframe tbody tr th {\n",
       "        vertical-align: top;\n",
       "    }\n",
       "\n",
       "    .dataframe thead th {\n",
       "        text-align: right;\n",
       "    }\n",
       "</style>\n",
       "<table border=\"1\" class=\"dataframe\">\n",
       "  <thead>\n",
       "    <tr style=\"text-align: right;\">\n",
       "      <th></th>\n",
       "      <th>ID</th>\n",
       "      <th>NAME</th>\n",
       "    </tr>\n",
       "  </thead>\n",
       "  <tbody>\n",
       "    <tr>\n",
       "      <th>0</th>\n",
       "      <td>1</td>\n",
       "      <td>Отдел разработки</td>\n",
       "    </tr>\n",
       "    <tr>\n",
       "      <th>1</th>\n",
       "      <td>2</td>\n",
       "      <td>Отдел CRM</td>\n",
       "    </tr>\n",
       "    <tr>\n",
       "      <th>2</th>\n",
       "      <td>3</td>\n",
       "      <td>Служба безопасности</td>\n",
       "    </tr>\n",
       "    <tr>\n",
       "      <th>3</th>\n",
       "      <td>4</td>\n",
       "      <td>Риски</td>\n",
       "    </tr>\n",
       "  </tbody>\n",
       "</table>\n",
       "</div>"
      ],
      "text/plain": [
       "   ID                 NAME\n",
       "0   1     Отдел разработки\n",
       "1   2            Отдел CRM\n",
       "2   3  Служба безопасности\n",
       "3   4                Риски"
      ]
     },
     "execution_count": 20,
     "metadata": {},
     "output_type": "execute_result"
    }
   ],
   "source": [
    "# Пример таблиц\n",
    "import pandas as pd\n",
    "DEPARTMENTS = pd.DataFrame({'ID':[1,2,3,4], 'NAME': ['Отдел разработки','Отдел CRM','Служба безопасности','Риски']})\n",
    "DEPARTMENTS"
   ]
  },
  {
   "cell_type": "code",
   "execution_count": 24,
   "metadata": {},
   "outputs": [
    {
     "data": {
      "text/html": [
       "<div>\n",
       "<style scoped>\n",
       "    .dataframe tbody tr th:only-of-type {\n",
       "        vertical-align: middle;\n",
       "    }\n",
       "\n",
       "    .dataframe tbody tr th {\n",
       "        vertical-align: top;\n",
       "    }\n",
       "\n",
       "    .dataframe thead th {\n",
       "        text-align: right;\n",
       "    }\n",
       "</style>\n",
       "<table border=\"1\" class=\"dataframe\">\n",
       "  <thead>\n",
       "    <tr style=\"text-align: right;\">\n",
       "      <th></th>\n",
       "      <th>ID</th>\n",
       "      <th>ID_LEAD</th>\n",
       "      <th>ID_DEP</th>\n",
       "      <th>NAME</th>\n",
       "      <th>SALARY</th>\n",
       "    </tr>\n",
       "  </thead>\n",
       "  <tbody>\n",
       "    <tr>\n",
       "      <th>0</th>\n",
       "      <td>1</td>\n",
       "      <td>2</td>\n",
       "      <td>1</td>\n",
       "      <td>ИВАН</td>\n",
       "      <td>94000.00</td>\n",
       "    </tr>\n",
       "    <tr>\n",
       "      <th>1</th>\n",
       "      <td>2</td>\n",
       "      <td>2</td>\n",
       "      <td>1</td>\n",
       "      <td>МАКСИМ</td>\n",
       "      <td>138000.33</td>\n",
       "    </tr>\n",
       "    <tr>\n",
       "      <th>2</th>\n",
       "      <td>3</td>\n",
       "      <td>3</td>\n",
       "      <td>3</td>\n",
       "      <td>АЛЕКСАНДРА</td>\n",
       "      <td>192003.22</td>\n",
       "    </tr>\n",
       "    <tr>\n",
       "      <th>3</th>\n",
       "      <td>4</td>\n",
       "      <td>4</td>\n",
       "      <td>4</td>\n",
       "      <td>МАРИЯ</td>\n",
       "      <td>57800.00</td>\n",
       "    </tr>\n",
       "  </tbody>\n",
       "</table>\n",
       "</div>"
      ],
      "text/plain": [
       "   ID  ID_LEAD  ID_DEP        NAME     SALARY\n",
       "0   1        2       1        ИВАН   94000.00\n",
       "1   2        2       1      МАКСИМ  138000.33\n",
       "2   3        3       3  АЛЕКСАНДРА  192003.22\n",
       "3   4        4       4       МАРИЯ   57800.00"
      ]
     },
     "execution_count": 24,
     "metadata": {},
     "output_type": "execute_result"
    }
   ],
   "source": [
    "# Пример таблиц\n",
    "STAFF = pd.DataFrame({\n",
    "    'ID':[1,2,3,4], \n",
    "    'ID_LEAD': [2,2,3,4],\n",
    "    'ID_DEP': [1,1,3,4],\n",
    "    'NAME': ['ИВАН', 'МАКСИМ', 'АЛЕКСАНДРА', 'МАРИЯ'],\n",
    "    'SALARY': [94000.00, 138000.33, 192003.22, 57800],\n",
    "})\n",
    "STAFF"
   ]
  },
  {
   "cell_type": "markdown",
   "metadata": {},
   "source": [
    "* Выведите наименование отдела с наибольшим числом сотрудников"
   ]
  },
  {
   "cell_type": "code",
   "execution_count": null,
   "metadata": {},
   "outputs": [],
   "source": []
  },
  {
   "cell_type": "markdown",
   "metadata": {},
   "source": [
    "* Выведите ID сотрудников с зарплатой выше, чем у руководителя"
   ]
  },
  {
   "cell_type": "code",
   "execution_count": null,
   "metadata": {},
   "outputs": [],
   "source": []
  },
  {
   "cell_type": "markdown",
   "metadata": {},
   "source": [
    "- Выведите ID отделов, число сотрудников в которых меньше 3 человек"
   ]
  },
  {
   "cell_type": "code",
   "execution_count": null,
   "metadata": {},
   "outputs": [],
   "source": []
  },
  {
   "cell_type": "markdown",
   "metadata": {},
   "source": [
    "### Задача #3 - Python ML\n",
    "Постройте модель по оценке вероятности оттока на основе данных ***telecom_churn.csv*** (задача классификации - 2 класса). Оцените качество полученной модели."
   ]
  },
  {
   "cell_type": "code",
   "execution_count": null,
   "metadata": {},
   "outputs": [],
   "source": []
  }
 ],
 "metadata": {
  "kernelspec": {
   "display_name": "Python 3",
   "language": "python",
   "name": "python3"
  },
  "language_info": {
   "codemirror_mode": {
    "name": "ipython",
    "version": 3
   },
   "file_extension": ".py",
   "mimetype": "text/x-python",
   "name": "python",
   "nbconvert_exporter": "python",
   "pygments_lexer": "ipython3",
   "version": "3.8.5"
  }
 },
 "nbformat": 4,
 "nbformat_minor": 4
}

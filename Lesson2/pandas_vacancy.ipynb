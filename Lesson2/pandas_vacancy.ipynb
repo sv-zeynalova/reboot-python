{
 "cells": [
  {
   "cell_type": "code",
   "execution_count": 42,
   "metadata": {},
   "outputs": [],
   "source": [
    "%matplotlib inline\n",
    "import matplotlib.pyplot as plt\n",
    "import pandas as pd\n",
    "vacancy = pd.read_csv('vacancy.csv.zip')"
   ]
  },
  {
   "cell_type": "code",
   "execution_count": 36,
   "metadata": {},
   "outputs": [
    {
     "name": "stdout",
     "output_type": "stream",
     "text": [
      "<class 'pandas.core.frame.DataFrame'>\n",
      "RangeIndex: 4002 entries, 0 to 4001\n",
      "Data columns (total 10 columns):\n",
      " #   Column          Non-Null Count  Dtype \n",
      "---  ------          --------------  ----- \n",
      " 0   id              4002 non-null   int64 \n",
      " 1   created_at      4002 non-null   object\n",
      " 2   updated_at      4002 non-null   object\n",
      " 3   vacid           4002 non-null   int64 \n",
      " 4   vactitle        4002 non-null   object\n",
      " 5   vacdescription  3886 non-null   object\n",
      " 6   vacdate         4000 non-null   object\n",
      " 7   vacstatus       4002 non-null   object\n",
      " 8   vaclink         4002 non-null   object\n",
      " 9   vachtml         4002 non-null   object\n",
      "dtypes: int64(2), object(8)\n",
      "memory usage: 312.8+ KB\n"
     ]
    }
   ],
   "source": [
    "vacancy.info()"
   ]
  },
  {
   "cell_type": "code",
   "execution_count": 37,
   "outputs": [
    {
     "data": {
      "text/plain": "                  id         vacid\ncount    4002.000000  4.002000e+03\nmean   384982.500000  1.373042e+06\nstd      1155.422217  3.460592e+05\nmin    382982.000000  2.142400e+04\n25%    383982.250000  1.452172e+06\n50%    384982.500000  1.511048e+06\n75%    385982.750000  1.535519e+06\nmax    386983.000000  1.604524e+06",
      "text/html": "<div>\n<style scoped>\n    .dataframe tbody tr th:only-of-type {\n        vertical-align: middle;\n    }\n\n    .dataframe tbody tr th {\n        vertical-align: top;\n    }\n\n    .dataframe thead th {\n        text-align: right;\n    }\n</style>\n<table border=\"1\" class=\"dataframe\">\n  <thead>\n    <tr style=\"text-align: right;\">\n      <th></th>\n      <th>id</th>\n      <th>vacid</th>\n    </tr>\n  </thead>\n  <tbody>\n    <tr>\n      <th>count</th>\n      <td>4002.000000</td>\n      <td>4.002000e+03</td>\n    </tr>\n    <tr>\n      <th>mean</th>\n      <td>384982.500000</td>\n      <td>1.373042e+06</td>\n    </tr>\n    <tr>\n      <th>std</th>\n      <td>1155.422217</td>\n      <td>3.460592e+05</td>\n    </tr>\n    <tr>\n      <th>min</th>\n      <td>382982.000000</td>\n      <td>2.142400e+04</td>\n    </tr>\n    <tr>\n      <th>25%</th>\n      <td>383982.250000</td>\n      <td>1.452172e+06</td>\n    </tr>\n    <tr>\n      <th>50%</th>\n      <td>384982.500000</td>\n      <td>1.511048e+06</td>\n    </tr>\n    <tr>\n      <th>75%</th>\n      <td>385982.750000</td>\n      <td>1.535519e+06</td>\n    </tr>\n    <tr>\n      <th>max</th>\n      <td>386983.000000</td>\n      <td>1.604524e+06</td>\n    </tr>\n  </tbody>\n</table>\n</div>"
     },
     "execution_count": 37,
     "metadata": {},
     "output_type": "execute_result"
    }
   ],
   "source": [
    "vacancy.describe()"
   ],
   "metadata": {
    "collapsed": false,
    "pycharm": {
     "name": "#%%\n"
    }
   }
  },
  {
   "cell_type": "code",
   "execution_count": 38,
   "outputs": [
    {
     "data": {
      "text/plain": "(4002, 10)"
     },
     "execution_count": 38,
     "metadata": {},
     "output_type": "execute_result"
    }
   ],
   "source": [
    "vacancy.shape"
   ],
   "metadata": {
    "collapsed": false,
    "pycharm": {
     "name": "#%%\n"
    }
   }
  },
  {
   "cell_type": "code",
   "execution_count": 21,
   "outputs": [],
   "source": [
    "vacancy.columns = ['id',\n",
    "                   'created_at',\n",
    "                   'updated_at',\n",
    "                   'vacid',\n",
    "                   'vactitle',\n",
    "                   'vacdescription',\n",
    "                   'vacdate',\n",
    "                   'vacstatus',\n",
    "                   'vaclink',\n",
    "                   'vachtml']"
   ],
   "metadata": {
    "collapsed": false,
    "pycharm": {
     "name": "#%%\n"
    }
   }
  },
  {
   "cell_type": "code",
   "execution_count": 27,
   "outputs": [],
   "source": [
    "vacancy.rename(columns = {'vacid__': 'vacid'}, inplace=True)"
   ],
   "metadata": {
    "collapsed": false,
    "pycharm": {
     "name": "#%%\n"
    }
   }
  },
  {
   "cell_type": "code",
   "execution_count": 30,
   "outputs": [],
   "source": [
    "vacancy = vacancy.drop(['updated_at'], axis=1)"
   ],
   "metadata": {
    "collapsed": false,
    "pycharm": {
     "name": "#%%\n"
    }
   }
  },
  {
   "cell_type": "code",
   "execution_count": 43,
   "outputs": [
    {
     "name": "stdout",
     "output_type": "stream",
     "text": [
      "CPU times: user 629 µs, sys: 1.6 ms, total: 2.23 ms\n",
      "Wall time: 2.22 ms\n"
     ]
    }
   ],
   "source": [
    "%%time\n",
    "del(vacancy['updated_at'])"
   ],
   "metadata": {
    "collapsed": false,
    "pycharm": {
     "name": "#%%\n"
    }
   }
  },
  {
   "cell_type": "code",
   "execution_count": 41,
   "outputs": [
    {
     "name": "stdout",
     "output_type": "stream",
     "text": [
      "CPU times: user 7.29 ms, sys: 35.8 ms, total: 43.1 ms\n",
      "Wall time: 48 ms\n"
     ]
    }
   ],
   "source": [
    "%%time\n",
    "vacancy = vacancy.drop(['updated_at'], axis=1)"
   ],
   "metadata": {
    "collapsed": false,
    "pycharm": {
     "name": "#%%\n"
    }
   }
  },
  {
   "cell_type": "code",
   "execution_count": 51,
   "outputs": [],
   "source": [
    "a = vacancy.vactitle.value_counts(normalize=True).mul(100).round(2).astype(str) + '%'"
   ],
   "metadata": {
    "collapsed": false,
    "pycharm": {
     "name": "#%%\n"
    }
   }
  },
  {
   "cell_type": "code",
   "execution_count": 53,
   "outputs": [],
   "source": [],
   "metadata": {
    "collapsed": false,
    "pycharm": {
     "name": "#%%\n"
    }
   }
  },
  {
   "cell_type": "code",
   "execution_count": 22,
   "metadata": {},
   "outputs": [
    {
     "data": {
      "text/plain": "       id                  created_at                  updated_at    vacid  \\\n0  383479  2021-03-14 09:39:21.854462  2021-03-14 09:39:21.854584  1474941   \n1  383480  2021-03-14 09:39:21.854462  2021-03-14 09:39:21.854584  1476154   \n2  383481  2021-03-14 09:39:21.854462  2021-03-14 09:39:21.854584  1479834   \n\n                                            vactitle  \\\n0     Senior java-разработчик (в команду Онбординга)   \n1                      Дизайнер мобильных приложений   \n2  Старший специалист отдела мониторинга залогово...   \n\n                                      vacdescription     vacdate vacstatus  \\\n0   Работа у нас — это:команда профессионалов, го...  2021-03-15       new   \n1  Мы ищем  дизайнера в нашу дружную команду Сбер...  2021-03-15       new   \n2    Условия: ● официальное трудоустройство;● 5-т...  2021-03-15       new   \n\n                                             vaclink  \\\n0  https://my.sbertalents.ru/#/job-requisition/14...   \n1  https://my.sbertalents.ru/#/job-requisition/14...   \n2  https://my.sbertalents.ru/#/job-requisition/14...   \n\n                                             vachtml  \n0  {\"title\": \"Senior java-\\u0440\\u0430\\u0437\\u044...  \n1  {\"title\": \"\\u0414\\u0438\\u0437\\u0430\\u0439\\u043...  \n2  {\"title\": \"\\u0421\\u0442\\u0430\\u0440\\u0448\\u043...  ",
      "text/html": "<div>\n<style scoped>\n    .dataframe tbody tr th:only-of-type {\n        vertical-align: middle;\n    }\n\n    .dataframe tbody tr th {\n        vertical-align: top;\n    }\n\n    .dataframe thead th {\n        text-align: right;\n    }\n</style>\n<table border=\"1\" class=\"dataframe\">\n  <thead>\n    <tr style=\"text-align: right;\">\n      <th></th>\n      <th>id</th>\n      <th>created_at</th>\n      <th>updated_at</th>\n      <th>vacid</th>\n      <th>vactitle</th>\n      <th>vacdescription</th>\n      <th>vacdate</th>\n      <th>vacstatus</th>\n      <th>vaclink</th>\n      <th>vachtml</th>\n    </tr>\n  </thead>\n  <tbody>\n    <tr>\n      <th>0</th>\n      <td>383479</td>\n      <td>2021-03-14 09:39:21.854462</td>\n      <td>2021-03-14 09:39:21.854584</td>\n      <td>1474941</td>\n      <td>Senior java-разработчик (в команду Онбординга)</td>\n      <td>Работа у нас — это:команда профессионалов, го...</td>\n      <td>2021-03-15</td>\n      <td>new</td>\n      <td>https://my.sbertalents.ru/#/job-requisition/14...</td>\n      <td>{\"title\": \"Senior java-\\u0440\\u0430\\u0437\\u044...</td>\n    </tr>\n    <tr>\n      <th>1</th>\n      <td>383480</td>\n      <td>2021-03-14 09:39:21.854462</td>\n      <td>2021-03-14 09:39:21.854584</td>\n      <td>1476154</td>\n      <td>Дизайнер мобильных приложений</td>\n      <td>Мы ищем  дизайнера в нашу дружную команду Сбер...</td>\n      <td>2021-03-15</td>\n      <td>new</td>\n      <td>https://my.sbertalents.ru/#/job-requisition/14...</td>\n      <td>{\"title\": \"\\u0414\\u0438\\u0437\\u0430\\u0439\\u043...</td>\n    </tr>\n    <tr>\n      <th>2</th>\n      <td>383481</td>\n      <td>2021-03-14 09:39:21.854462</td>\n      <td>2021-03-14 09:39:21.854584</td>\n      <td>1479834</td>\n      <td>Старший специалист отдела мониторинга залогово...</td>\n      <td>Условия: ● официальное трудоустройство;● 5-т...</td>\n      <td>2021-03-15</td>\n      <td>new</td>\n      <td>https://my.sbertalents.ru/#/job-requisition/14...</td>\n      <td>{\"title\": \"\\u0421\\u0442\\u0430\\u0440\\u0448\\u043...</td>\n    </tr>\n  </tbody>\n</table>\n</div>"
     },
     "execution_count": 22,
     "metadata": {},
     "output_type": "execute_result"
    }
   ],
   "source": [
    "# Посмотреть первые строчки\n",
    "vacancy.head(3)"
   ]
  },
  {
   "cell_type": "code",
   "execution_count": 55,
   "metadata": {},
   "outputs": [],
   "source": [
    "# убрать лишнее\n",
    "vacancy = vacancy.drop(['vachtml','created_at'], axis=1)"
   ]
  },
  {
   "cell_type": "code",
   "execution_count": 57,
   "metadata": {},
   "outputs": [
    {
     "data": {
      "text/plain": "4000"
     },
     "execution_count": 57,
     "metadata": {},
     "output_type": "execute_result"
    }
   ],
   "source": [
    "# посчитать по датам количество вакансий\n",
    "vacancy.groupby('vacdate')['vacid'].count().sum()"
   ]
  },
  {
   "cell_type": "code",
   "execution_count": 73,
   "outputs": [
    {
     "data": {
      "text/plain": "          id    vacid                                           vactitle  \\\n92    383571  1519617                    QA Automation Engineer (Python)   \n96    383575  1524619                 Python разработчик (команда \"ИСУ\")   \n557   384036  1542237                   Python backend developer (TagMe)   \n589   384068  1566443                                 Аналитик Retail FX   \n617   384096  1501006                                 Python разработчик   \n720   384199  1528569                        Python-разработчик (Django)   \n817   384296  1541968  Python-разработчик. Команда виртуальных ассист...   \n875   384354  1505839                      Team Lead - в команду R&D NLP   \n1202  384681  1411826                     Web-разработчик (React, Redux)   \n1230  384709  1532790                              Data analyst (Python)   \n1483  384962  1530552       front-end разработчик React + Redux (middle)   \n1586  385065  1389813            Prudential risk/RWA methodology manager   \n1657  385136  1157637                                   Python developer   \n1803  385282  1501051                                 Python-разработчик   \n1828  385307  1534592                      Back-end разработчик (Python)   \n1876  385355  1531671                               Python-junior/стажёр   \n1919  385398  1474727              Senior Frontend Developer (Js, React)   \n1948  385427  1531831                                 Python-разработчик   \n2159  385638  1169644                                 Python разработчик   \n2297  385776  1396531           Python developer (Виртуальный ассистент)   \n2299  385778  1477623                                   Python developer   \n2440  385919  1500427  Python developer (Виртуальный ассистент, напра...   \n2449  385928  1520814                                 Python разработчик   \n2638  386117  1474936                          Senior Python разработчик   \n2733  386212  1517400              Middle frontend-разработчик JS, React   \n2808  386287  1511309         Senior UX researcher (Web Sberbank Online)   \n2827  386306  1511296                       Разработчик ИСУ (Python/SQL)   \n2927  386406  1500839           Junior Risk Quant (Quantitative Analyst)   \n3041  386520  1491608                               DevOps Python под DS   \n3124  386603  1474781            JavaScript/Python developer SberDevices   \n3174  386653   710137                   Python разработчик (SberDevices)   \n3291  386770  1488950                                    Разработчик RPA   \n3400  386879  1477344  Frontend Developer/ React (Сервис потоковой за...   \n3448  386927  1057341                                 Python-разработчик   \n3457  386936  1116054        Ведущий Backend-разработчик (Python/Django)   \n3469  386948  1169703                           Сценарист/ Python Junior   \n3520  382997  1466896                                 Разработчик Python   \n3622  383099  1509953                                             Python   \n3689  383166  1602558                       Site Reliability Engineering   \n3712  383189  1501761         Frontend Developer (JS, React, TypeScript)   \n3796  383273  1003384  Старший аудитор (с навыком программирования на...   \n3882  383359  1593588                            Наставник по Python/SQL   \n\n                                         vacdescription    vacdate vacstatus  \\\n92    Cбер продолжает реализовывать масштабный проек... 2021-03-12       new   \n96    Трайб «ИСУ» набирает команду для разработки пр... 2021-03-15       new   \n557   Чем предстоит заниматься:Проектировать и разра... 2021-03-10       new   \n589   Мы предлагаем:оформление согласно трудовому ко... 2021-03-10       new   \n617    Мы предлагаем: пятидневную рабочую неделю, оф... 2021-03-10       new   \n720   Трайб «Интеллектуальная система управления» фо... 2021-03-09       new   \n817   Ежедневно десятки миллионов клиентов пользуютс... 2021-03-05       new   \n875   Условия:современный IT-офис вблизи м. Кутузовс... 2021-03-04       new   \n1202  Работа у нас — это:Команда профессионалов, гот... 2021-03-02       new   \n1230   Мы предлагаем: Конкурентную заработную платуУ... 2021-03-02       new   \n1483  Условия:Интересные и масштабные задачи, работа... 2021-03-01       new   \n1586   We offer:Stable job in highly professional te... 2021-02-26       new   \n1657  Команда ИСУ (Интеллектуальная Система Управлен... 2021-02-25       new   \n1803  Мы формируем команду для развития продукта «Ин... 2021-02-24       new   \n1828   Наш проект: Создание первой CAT-системы (comp... 2021-02-24       new   \n1876  Трайб «ИСУ» набирает команду для разработки пр... 2021-02-20       new   \n1919  Наша команда занимается разработкой централизо... 2021-02-19       new   \n1948  Python-разработчик В дивизион Цифровой кредитн... 2021-02-19       new   \n2159  Условия:ДМС, страхование от несчастных случаев... 2021-02-16       new   \n2297  В команду Виртуального ассистента требуется Py... 2021-02-10       new   \n2299  В команду Виртуального ассистента требуется py... 2021-02-11       new   \n2440  Стань частью успешной команды «Голосовые сцена... 2021-02-08       new   \n2449  SberData – департамент по управлению данными в... 2021-02-08       new   \n2638  Работа у нас — это:конкурентные условия труда ... 2021-02-02       new   \n2733  Мы трайб «Розничное взыскание и урегулирование... 2021-02-01       new   \n2808  Что мы предлагаем:Оформление по ТК РФСоциальны... 2021-01-27       new   \n2827  Мы предлагаем: трудоустройство согласно ТК РФ;... 2021-01-26       new   \n2927  В Центре рыночного и портфельного моделировани... 2021-01-21       new   \n3041  В поиске DevOps Python под Data science команд... 2021-01-15       new   \n3124  SberDevices — уникальное IT-пространство внутр... 2021-01-12       new   \n3174  Мы – департамент SberDevices, разрабатываем го... 2021-01-11       new   \n3291  Сбер — больше чем банк, это вселенная полезных... 2020-12-21       new   \n3400  Платформа Кибербезопаности – это АС, включающа... 2020-12-08       new   \n3448  Условия:- Работа в крупнейшем банке России;- Т... 2020-11-19       new   \n3457  Условия:Официальное трудоустройство;Офис в шаг... 2020-11-16       new   \n3469  Мы предлагаем:• график работы 5/2;• трудоустро... 2020-11-09       new   \n3520  Мы — команда SberWorks. Мы создаём интегрирова... 2021-03-17       new   \n3622                                                NaN 2021-03-17       new   \n3689  Cбер продолжает масштабный проект по созданию ... 2021-03-17       new   \n3712  Мы предлагаем:масштабные и высоконагруженные п... 2021-03-16       new   \n3796  Мы предлагаем:оформление по срочному трудовому... 2021-03-16       new   \n3882  Основная задача: Трайб «ИСУ» набирает команду ... 2021-03-16       new   \n\n                                                vaclink  \n92    https://my.sbertalents.ru/#/job-requisition/15...  \n96    https://my.sbertalents.ru/#/job-requisition/15...  \n557   https://my.sbertalents.ru/#/job-requisition/15...  \n589   https://my.sbertalents.ru/#/job-requisition/15...  \n617   https://my.sbertalents.ru/#/job-requisition/15...  \n720   https://my.sbertalents.ru/#/job-requisition/15...  \n817   https://my.sbertalents.ru/#/job-requisition/15...  \n875   https://my.sbertalents.ru/#/job-requisition/15...  \n1202  https://my.sbertalents.ru/#/job-requisition/14...  \n1230  https://my.sbertalents.ru/#/job-requisition/15...  \n1483  https://my.sbertalents.ru/#/job-requisition/15...  \n1586  https://my.sbertalents.ru/#/job-requisition/13...  \n1657  https://my.sbertalents.ru/#/job-requisition/11...  \n1803  https://my.sbertalents.ru/#/job-requisition/15...  \n1828  https://my.sbertalents.ru/#/job-requisition/15...  \n1876  https://my.sbertalents.ru/#/job-requisition/15...  \n1919  https://my.sbertalents.ru/#/job-requisition/14...  \n1948  https://my.sbertalents.ru/#/job-requisition/15...  \n2159  https://my.sbertalents.ru/#/job-requisition/11...  \n2297  https://my.sbertalents.ru/#/job-requisition/13...  \n2299  https://my.sbertalents.ru/#/job-requisition/14...  \n2440  https://my.sbertalents.ru/#/job-requisition/15...  \n2449  https://my.sbertalents.ru/#/job-requisition/15...  \n2638  https://my.sbertalents.ru/#/job-requisition/14...  \n2733  https://my.sbertalents.ru/#/job-requisition/15...  \n2808  https://my.sbertalents.ru/#/job-requisition/15...  \n2827  https://my.sbertalents.ru/#/job-requisition/15...  \n2927  https://my.sbertalents.ru/#/job-requisition/15...  \n3041  https://my.sbertalents.ru/#/job-requisition/14...  \n3124  https://my.sbertalents.ru/#/job-requisition/14...  \n3174  https://my.sbertalents.ru/#/job-requisition/71...  \n3291  https://my.sbertalents.ru/#/job-requisition/14...  \n3400  https://my.sbertalents.ru/#/job-requisition/14...  \n3448  https://my.sbertalents.ru/#/job-requisition/10...  \n3457  https://my.sbertalents.ru/#/job-requisition/11...  \n3469  https://my.sbertalents.ru/#/job-requisition/11...  \n3520  https://my.sbertalents.ru/#/job-requisition/14...  \n3622  https://my.sbertalents.ru/#/job-requisition/15...  \n3689  https://my.sbertalents.ru/#/job-requisition/16...  \n3712  https://my.sbertalents.ru/#/job-requisition/15...  \n3796  https://my.sbertalents.ru/#/job-requisition/10...  \n3882  https://my.sbertalents.ru/#/job-requisition/15...  ",
      "text/html": "<div>\n<style scoped>\n    .dataframe tbody tr th:only-of-type {\n        vertical-align: middle;\n    }\n\n    .dataframe tbody tr th {\n        vertical-align: top;\n    }\n\n    .dataframe thead th {\n        text-align: right;\n    }\n</style>\n<table border=\"1\" class=\"dataframe\">\n  <thead>\n    <tr style=\"text-align: right;\">\n      <th></th>\n      <th>id</th>\n      <th>vacid</th>\n      <th>vactitle</th>\n      <th>vacdescription</th>\n      <th>vacdate</th>\n      <th>vacstatus</th>\n      <th>vaclink</th>\n    </tr>\n  </thead>\n  <tbody>\n    <tr>\n      <th>92</th>\n      <td>383571</td>\n      <td>1519617</td>\n      <td>QA Automation Engineer (Python)</td>\n      <td>Cбер продолжает реализовывать масштабный проек...</td>\n      <td>2021-03-12</td>\n      <td>new</td>\n      <td>https://my.sbertalents.ru/#/job-requisition/15...</td>\n    </tr>\n    <tr>\n      <th>96</th>\n      <td>383575</td>\n      <td>1524619</td>\n      <td>Python разработчик (команда \"ИСУ\")</td>\n      <td>Трайб «ИСУ» набирает команду для разработки пр...</td>\n      <td>2021-03-15</td>\n      <td>new</td>\n      <td>https://my.sbertalents.ru/#/job-requisition/15...</td>\n    </tr>\n    <tr>\n      <th>557</th>\n      <td>384036</td>\n      <td>1542237</td>\n      <td>Python backend developer (TagMe)</td>\n      <td>Чем предстоит заниматься:Проектировать и разра...</td>\n      <td>2021-03-10</td>\n      <td>new</td>\n      <td>https://my.sbertalents.ru/#/job-requisition/15...</td>\n    </tr>\n    <tr>\n      <th>589</th>\n      <td>384068</td>\n      <td>1566443</td>\n      <td>Аналитик Retail FX</td>\n      <td>Мы предлагаем:оформление согласно трудовому ко...</td>\n      <td>2021-03-10</td>\n      <td>new</td>\n      <td>https://my.sbertalents.ru/#/job-requisition/15...</td>\n    </tr>\n    <tr>\n      <th>617</th>\n      <td>384096</td>\n      <td>1501006</td>\n      <td>Python разработчик</td>\n      <td>Мы предлагаем: пятидневную рабочую неделю, оф...</td>\n      <td>2021-03-10</td>\n      <td>new</td>\n      <td>https://my.sbertalents.ru/#/job-requisition/15...</td>\n    </tr>\n    <tr>\n      <th>720</th>\n      <td>384199</td>\n      <td>1528569</td>\n      <td>Python-разработчик (Django)</td>\n      <td>Трайб «Интеллектуальная система управления» фо...</td>\n      <td>2021-03-09</td>\n      <td>new</td>\n      <td>https://my.sbertalents.ru/#/job-requisition/15...</td>\n    </tr>\n    <tr>\n      <th>817</th>\n      <td>384296</td>\n      <td>1541968</td>\n      <td>Python-разработчик. Команда виртуальных ассист...</td>\n      <td>Ежедневно десятки миллионов клиентов пользуютс...</td>\n      <td>2021-03-05</td>\n      <td>new</td>\n      <td>https://my.sbertalents.ru/#/job-requisition/15...</td>\n    </tr>\n    <tr>\n      <th>875</th>\n      <td>384354</td>\n      <td>1505839</td>\n      <td>Team Lead - в команду R&amp;D NLP</td>\n      <td>Условия:современный IT-офис вблизи м. Кутузовс...</td>\n      <td>2021-03-04</td>\n      <td>new</td>\n      <td>https://my.sbertalents.ru/#/job-requisition/15...</td>\n    </tr>\n    <tr>\n      <th>1202</th>\n      <td>384681</td>\n      <td>1411826</td>\n      <td>Web-разработчик (React, Redux)</td>\n      <td>Работа у нас — это:Команда профессионалов, гот...</td>\n      <td>2021-03-02</td>\n      <td>new</td>\n      <td>https://my.sbertalents.ru/#/job-requisition/14...</td>\n    </tr>\n    <tr>\n      <th>1230</th>\n      <td>384709</td>\n      <td>1532790</td>\n      <td>Data analyst (Python)</td>\n      <td>Мы предлагаем: Конкурентную заработную платуУ...</td>\n      <td>2021-03-02</td>\n      <td>new</td>\n      <td>https://my.sbertalents.ru/#/job-requisition/15...</td>\n    </tr>\n    <tr>\n      <th>1483</th>\n      <td>384962</td>\n      <td>1530552</td>\n      <td>front-end разработчик React + Redux (middle)</td>\n      <td>Условия:Интересные и масштабные задачи, работа...</td>\n      <td>2021-03-01</td>\n      <td>new</td>\n      <td>https://my.sbertalents.ru/#/job-requisition/15...</td>\n    </tr>\n    <tr>\n      <th>1586</th>\n      <td>385065</td>\n      <td>1389813</td>\n      <td>Prudential risk/RWA methodology manager</td>\n      <td>We offer:Stable job in highly professional te...</td>\n      <td>2021-02-26</td>\n      <td>new</td>\n      <td>https://my.sbertalents.ru/#/job-requisition/13...</td>\n    </tr>\n    <tr>\n      <th>1657</th>\n      <td>385136</td>\n      <td>1157637</td>\n      <td>Python developer</td>\n      <td>Команда ИСУ (Интеллектуальная Система Управлен...</td>\n      <td>2021-02-25</td>\n      <td>new</td>\n      <td>https://my.sbertalents.ru/#/job-requisition/11...</td>\n    </tr>\n    <tr>\n      <th>1803</th>\n      <td>385282</td>\n      <td>1501051</td>\n      <td>Python-разработчик</td>\n      <td>Мы формируем команду для развития продукта «Ин...</td>\n      <td>2021-02-24</td>\n      <td>new</td>\n      <td>https://my.sbertalents.ru/#/job-requisition/15...</td>\n    </tr>\n    <tr>\n      <th>1828</th>\n      <td>385307</td>\n      <td>1534592</td>\n      <td>Back-end разработчик (Python)</td>\n      <td>Наш проект: Создание первой CAT-системы (comp...</td>\n      <td>2021-02-24</td>\n      <td>new</td>\n      <td>https://my.sbertalents.ru/#/job-requisition/15...</td>\n    </tr>\n    <tr>\n      <th>1876</th>\n      <td>385355</td>\n      <td>1531671</td>\n      <td>Python-junior/стажёр</td>\n      <td>Трайб «ИСУ» набирает команду для разработки пр...</td>\n      <td>2021-02-20</td>\n      <td>new</td>\n      <td>https://my.sbertalents.ru/#/job-requisition/15...</td>\n    </tr>\n    <tr>\n      <th>1919</th>\n      <td>385398</td>\n      <td>1474727</td>\n      <td>Senior Frontend Developer (Js, React)</td>\n      <td>Наша команда занимается разработкой централизо...</td>\n      <td>2021-02-19</td>\n      <td>new</td>\n      <td>https://my.sbertalents.ru/#/job-requisition/14...</td>\n    </tr>\n    <tr>\n      <th>1948</th>\n      <td>385427</td>\n      <td>1531831</td>\n      <td>Python-разработчик</td>\n      <td>Python-разработчик В дивизион Цифровой кредитн...</td>\n      <td>2021-02-19</td>\n      <td>new</td>\n      <td>https://my.sbertalents.ru/#/job-requisition/15...</td>\n    </tr>\n    <tr>\n      <th>2159</th>\n      <td>385638</td>\n      <td>1169644</td>\n      <td>Python разработчик</td>\n      <td>Условия:ДМС, страхование от несчастных случаев...</td>\n      <td>2021-02-16</td>\n      <td>new</td>\n      <td>https://my.sbertalents.ru/#/job-requisition/11...</td>\n    </tr>\n    <tr>\n      <th>2297</th>\n      <td>385776</td>\n      <td>1396531</td>\n      <td>Python developer (Виртуальный ассистент)</td>\n      <td>В команду Виртуального ассистента требуется Py...</td>\n      <td>2021-02-10</td>\n      <td>new</td>\n      <td>https://my.sbertalents.ru/#/job-requisition/13...</td>\n    </tr>\n    <tr>\n      <th>2299</th>\n      <td>385778</td>\n      <td>1477623</td>\n      <td>Python developer</td>\n      <td>В команду Виртуального ассистента требуется py...</td>\n      <td>2021-02-11</td>\n      <td>new</td>\n      <td>https://my.sbertalents.ru/#/job-requisition/14...</td>\n    </tr>\n    <tr>\n      <th>2440</th>\n      <td>385919</td>\n      <td>1500427</td>\n      <td>Python developer (Виртуальный ассистент, напра...</td>\n      <td>Стань частью успешной команды «Голосовые сцена...</td>\n      <td>2021-02-08</td>\n      <td>new</td>\n      <td>https://my.sbertalents.ru/#/job-requisition/15...</td>\n    </tr>\n    <tr>\n      <th>2449</th>\n      <td>385928</td>\n      <td>1520814</td>\n      <td>Python разработчик</td>\n      <td>SberData – департамент по управлению данными в...</td>\n      <td>2021-02-08</td>\n      <td>new</td>\n      <td>https://my.sbertalents.ru/#/job-requisition/15...</td>\n    </tr>\n    <tr>\n      <th>2638</th>\n      <td>386117</td>\n      <td>1474936</td>\n      <td>Senior Python разработчик</td>\n      <td>Работа у нас — это:конкурентные условия труда ...</td>\n      <td>2021-02-02</td>\n      <td>new</td>\n      <td>https://my.sbertalents.ru/#/job-requisition/14...</td>\n    </tr>\n    <tr>\n      <th>2733</th>\n      <td>386212</td>\n      <td>1517400</td>\n      <td>Middle frontend-разработчик JS, React</td>\n      <td>Мы трайб «Розничное взыскание и урегулирование...</td>\n      <td>2021-02-01</td>\n      <td>new</td>\n      <td>https://my.sbertalents.ru/#/job-requisition/15...</td>\n    </tr>\n    <tr>\n      <th>2808</th>\n      <td>386287</td>\n      <td>1511309</td>\n      <td>Senior UX researcher (Web Sberbank Online)</td>\n      <td>Что мы предлагаем:Оформление по ТК РФСоциальны...</td>\n      <td>2021-01-27</td>\n      <td>new</td>\n      <td>https://my.sbertalents.ru/#/job-requisition/15...</td>\n    </tr>\n    <tr>\n      <th>2827</th>\n      <td>386306</td>\n      <td>1511296</td>\n      <td>Разработчик ИСУ (Python/SQL)</td>\n      <td>Мы предлагаем: трудоустройство согласно ТК РФ;...</td>\n      <td>2021-01-26</td>\n      <td>new</td>\n      <td>https://my.sbertalents.ru/#/job-requisition/15...</td>\n    </tr>\n    <tr>\n      <th>2927</th>\n      <td>386406</td>\n      <td>1500839</td>\n      <td>Junior Risk Quant (Quantitative Analyst)</td>\n      <td>В Центре рыночного и портфельного моделировани...</td>\n      <td>2021-01-21</td>\n      <td>new</td>\n      <td>https://my.sbertalents.ru/#/job-requisition/15...</td>\n    </tr>\n    <tr>\n      <th>3041</th>\n      <td>386520</td>\n      <td>1491608</td>\n      <td>DevOps Python под DS</td>\n      <td>В поиске DevOps Python под Data science команд...</td>\n      <td>2021-01-15</td>\n      <td>new</td>\n      <td>https://my.sbertalents.ru/#/job-requisition/14...</td>\n    </tr>\n    <tr>\n      <th>3124</th>\n      <td>386603</td>\n      <td>1474781</td>\n      <td>JavaScript/Python developer SberDevices</td>\n      <td>SberDevices — уникальное IT-пространство внутр...</td>\n      <td>2021-01-12</td>\n      <td>new</td>\n      <td>https://my.sbertalents.ru/#/job-requisition/14...</td>\n    </tr>\n    <tr>\n      <th>3174</th>\n      <td>386653</td>\n      <td>710137</td>\n      <td>Python разработчик (SberDevices)</td>\n      <td>Мы – департамент SberDevices, разрабатываем го...</td>\n      <td>2021-01-11</td>\n      <td>new</td>\n      <td>https://my.sbertalents.ru/#/job-requisition/71...</td>\n    </tr>\n    <tr>\n      <th>3291</th>\n      <td>386770</td>\n      <td>1488950</td>\n      <td>Разработчик RPA</td>\n      <td>Сбер — больше чем банк, это вселенная полезных...</td>\n      <td>2020-12-21</td>\n      <td>new</td>\n      <td>https://my.sbertalents.ru/#/job-requisition/14...</td>\n    </tr>\n    <tr>\n      <th>3400</th>\n      <td>386879</td>\n      <td>1477344</td>\n      <td>Frontend Developer/ React (Сервис потоковой за...</td>\n      <td>Платформа Кибербезопаности – это АС, включающа...</td>\n      <td>2020-12-08</td>\n      <td>new</td>\n      <td>https://my.sbertalents.ru/#/job-requisition/14...</td>\n    </tr>\n    <tr>\n      <th>3448</th>\n      <td>386927</td>\n      <td>1057341</td>\n      <td>Python-разработчик</td>\n      <td>Условия:- Работа в крупнейшем банке России;- Т...</td>\n      <td>2020-11-19</td>\n      <td>new</td>\n      <td>https://my.sbertalents.ru/#/job-requisition/10...</td>\n    </tr>\n    <tr>\n      <th>3457</th>\n      <td>386936</td>\n      <td>1116054</td>\n      <td>Ведущий Backend-разработчик (Python/Django)</td>\n      <td>Условия:Официальное трудоустройство;Офис в шаг...</td>\n      <td>2020-11-16</td>\n      <td>new</td>\n      <td>https://my.sbertalents.ru/#/job-requisition/11...</td>\n    </tr>\n    <tr>\n      <th>3469</th>\n      <td>386948</td>\n      <td>1169703</td>\n      <td>Сценарист/ Python Junior</td>\n      <td>Мы предлагаем:• график работы 5/2;• трудоустро...</td>\n      <td>2020-11-09</td>\n      <td>new</td>\n      <td>https://my.sbertalents.ru/#/job-requisition/11...</td>\n    </tr>\n    <tr>\n      <th>3520</th>\n      <td>382997</td>\n      <td>1466896</td>\n      <td>Разработчик Python</td>\n      <td>Мы — команда SberWorks. Мы создаём интегрирова...</td>\n      <td>2021-03-17</td>\n      <td>new</td>\n      <td>https://my.sbertalents.ru/#/job-requisition/14...</td>\n    </tr>\n    <tr>\n      <th>3622</th>\n      <td>383099</td>\n      <td>1509953</td>\n      <td>Python</td>\n      <td>NaN</td>\n      <td>2021-03-17</td>\n      <td>new</td>\n      <td>https://my.sbertalents.ru/#/job-requisition/15...</td>\n    </tr>\n    <tr>\n      <th>3689</th>\n      <td>383166</td>\n      <td>1602558</td>\n      <td>Site Reliability Engineering</td>\n      <td>Cбер продолжает масштабный проект по созданию ...</td>\n      <td>2021-03-17</td>\n      <td>new</td>\n      <td>https://my.sbertalents.ru/#/job-requisition/16...</td>\n    </tr>\n    <tr>\n      <th>3712</th>\n      <td>383189</td>\n      <td>1501761</td>\n      <td>Frontend Developer (JS, React, TypeScript)</td>\n      <td>Мы предлагаем:масштабные и высоконагруженные п...</td>\n      <td>2021-03-16</td>\n      <td>new</td>\n      <td>https://my.sbertalents.ru/#/job-requisition/15...</td>\n    </tr>\n    <tr>\n      <th>3796</th>\n      <td>383273</td>\n      <td>1003384</td>\n      <td>Старший аудитор (с навыком программирования на...</td>\n      <td>Мы предлагаем:оформление по срочному трудовому...</td>\n      <td>2021-03-16</td>\n      <td>new</td>\n      <td>https://my.sbertalents.ru/#/job-requisition/10...</td>\n    </tr>\n    <tr>\n      <th>3882</th>\n      <td>383359</td>\n      <td>1593588</td>\n      <td>Наставник по Python/SQL</td>\n      <td>Основная задача: Трайб «ИСУ» набирает команду ...</td>\n      <td>2021-03-16</td>\n      <td>new</td>\n      <td>https://my.sbertalents.ru/#/job-requisition/15...</td>\n    </tr>\n  </tbody>\n</table>\n</div>"
     },
     "execution_count": 73,
     "metadata": {},
     "output_type": "execute_result"
    }
   ],
   "source": [
    "# t1 = vacancy.vacdate.notna()\n",
    "# t2 = vacancy.vactitle.str.lower().str.startswith('senior')\n",
    "t3 = vacancy.vactitle.str.lower().str.contains('python| r')\n",
    "\n",
    "vacancy[\n",
    "    t1 &\n",
    "    t2 &\n",
    "    t3\n",
    "]"
   ],
   "metadata": {
    "collapsed": false,
    "pycharm": {
     "name": "#%%\n"
    }
   }
  },
  {
   "cell_type": "code",
   "execution_count": 56,
   "outputs": [
    {
     "name": "stdout",
     "output_type": "stream",
     "text": [
      "<class 'pandas.core.frame.DataFrame'>\n",
      "RangeIndex: 4002 entries, 0 to 4001\n",
      "Data columns (total 7 columns):\n",
      " #   Column          Non-Null Count  Dtype \n",
      "---  ------          --------------  ----- \n",
      " 0   id              4002 non-null   int64 \n",
      " 1   vacid           4002 non-null   int64 \n",
      " 2   vactitle        4002 non-null   object\n",
      " 3   vacdescription  3886 non-null   object\n",
      " 4   vacdate         4000 non-null   object\n",
      " 5   vacstatus       4002 non-null   object\n",
      " 6   vaclink         4002 non-null   object\n",
      "dtypes: int64(2), object(5)\n",
      "memory usage: 219.0+ KB\n"
     ]
    }
   ],
   "source": [
    "vacancy.info()"
   ],
   "metadata": {
    "collapsed": false,
    "pycharm": {
     "name": "#%%\n"
    }
   }
  },
  {
   "cell_type": "code",
   "execution_count": 71,
   "metadata": {},
   "outputs": [],
   "source": [
    "# перевести даты в формат datetime\n",
    "vacancy.vacdate = pd.to_datetime(vacancy.vacdate)"
   ]
  },
  {
   "cell_type": "code",
   "execution_count": 72,
   "metadata": {},
   "outputs": [
    {
     "data": {
      "text/plain": "dtype('<M8[ns]')"
     },
     "execution_count": 72,
     "metadata": {},
     "output_type": "execute_result"
    }
   ],
   "source": [
    "# vacancy.vacdate.dtype"
   ]
  },
  {
   "cell_type": "code",
   "execution_count": 94,
   "metadata": {},
   "outputs": [
    {
     "ename": "KeyError",
     "evalue": "\"None of ['vacdate'] are in the columns\"",
     "output_type": "error",
     "traceback": [
      "\u001B[0;31m---------------------------------------------------------------------------\u001B[0m",
      "\u001B[0;31mKeyError\u001B[0m                                  Traceback (most recent call last)",
      "\u001B[0;32m/var/folders/9z/_pdr4vys3c9_sdhkgcm_5s540000gn/T/ipykernel_7087/4269159845.py\u001B[0m in \u001B[0;36m<module>\u001B[0;34m\u001B[0m\n\u001B[1;32m      1\u001B[0m \u001B[0;31m# перевести даты в индекс и построить график\u001B[0m\u001B[0;34m\u001B[0m\u001B[0;34m\u001B[0m\u001B[0m\n\u001B[0;32m----> 2\u001B[0;31m \u001B[0mvacancy\u001B[0m \u001B[0;34m=\u001B[0m \u001B[0mvacancy\u001B[0m\u001B[0;34m.\u001B[0m\u001B[0mset_index\u001B[0m\u001B[0;34m(\u001B[0m\u001B[0;34m'vacdate'\u001B[0m\u001B[0;34m)\u001B[0m\u001B[0;34m\u001B[0m\u001B[0;34m\u001B[0m\u001B[0m\n\u001B[0m",
      "\u001B[0;32m~/opt/anaconda3/envs/notebooks/lib/python3.9/site-packages/pandas/util/_decorators.py\u001B[0m in \u001B[0;36mwrapper\u001B[0;34m(*args, **kwargs)\u001B[0m\n\u001B[1;32m    309\u001B[0m                     \u001B[0mstacklevel\u001B[0m\u001B[0;34m=\u001B[0m\u001B[0mstacklevel\u001B[0m\u001B[0;34m,\u001B[0m\u001B[0;34m\u001B[0m\u001B[0;34m\u001B[0m\u001B[0m\n\u001B[1;32m    310\u001B[0m                 )\n\u001B[0;32m--> 311\u001B[0;31m             \u001B[0;32mreturn\u001B[0m \u001B[0mfunc\u001B[0m\u001B[0;34m(\u001B[0m\u001B[0;34m*\u001B[0m\u001B[0margs\u001B[0m\u001B[0;34m,\u001B[0m \u001B[0;34m**\u001B[0m\u001B[0mkwargs\u001B[0m\u001B[0;34m)\u001B[0m\u001B[0;34m\u001B[0m\u001B[0;34m\u001B[0m\u001B[0m\n\u001B[0m\u001B[1;32m    312\u001B[0m \u001B[0;34m\u001B[0m\u001B[0m\n\u001B[1;32m    313\u001B[0m         \u001B[0;32mreturn\u001B[0m \u001B[0mwrapper\u001B[0m\u001B[0;34m\u001B[0m\u001B[0;34m\u001B[0m\u001B[0m\n",
      "\u001B[0;32m~/opt/anaconda3/envs/notebooks/lib/python3.9/site-packages/pandas/core/frame.py\u001B[0m in \u001B[0;36mset_index\u001B[0;34m(self, keys, drop, append, inplace, verify_integrity)\u001B[0m\n\u001B[1;32m   5449\u001B[0m \u001B[0;34m\u001B[0m\u001B[0m\n\u001B[1;32m   5450\u001B[0m         \u001B[0;32mif\u001B[0m \u001B[0mmissing\u001B[0m\u001B[0;34m:\u001B[0m\u001B[0;34m\u001B[0m\u001B[0;34m\u001B[0m\u001B[0m\n\u001B[0;32m-> 5451\u001B[0;31m             \u001B[0;32mraise\u001B[0m \u001B[0mKeyError\u001B[0m\u001B[0;34m(\u001B[0m\u001B[0;34mf\"None of {missing} are in the columns\"\u001B[0m\u001B[0;34m)\u001B[0m\u001B[0;34m\u001B[0m\u001B[0;34m\u001B[0m\u001B[0m\n\u001B[0m\u001B[1;32m   5452\u001B[0m \u001B[0;34m\u001B[0m\u001B[0m\n\u001B[1;32m   5453\u001B[0m         \u001B[0;32mif\u001B[0m \u001B[0minplace\u001B[0m\u001B[0;34m:\u001B[0m\u001B[0;34m\u001B[0m\u001B[0;34m\u001B[0m\u001B[0m\n",
      "\u001B[0;31mKeyError\u001B[0m: \"None of ['vacdate'] are in the columns\""
     ]
    }
   ],
   "source": [
    "# перевести даты в индекс и построить график\n",
    "vacancy = vacancy.set_index('vacdate')"
   ]
  },
  {
   "cell_type": "code",
   "execution_count": 95,
   "outputs": [],
   "source": [],
   "metadata": {
    "collapsed": false,
    "pycharm": {
     "name": "#%%\n"
    }
   }
  },
  {
   "cell_type": "code",
   "execution_count": 91,
   "outputs": [],
   "source": [
    "vacancy = vacancy.reset_index()"
   ],
   "metadata": {
    "collapsed": false,
    "pycharm": {
     "name": "#%%\n"
    }
   }
  },
  {
   "cell_type": "code",
   "execution_count": 79,
   "outputs": [],
   "source": [
    "def myfunc():\n",
    "    pass"
   ],
   "metadata": {
    "collapsed": false,
    "pycharm": {
     "name": "#%%\n"
    }
   }
  },
  {
   "cell_type": "code",
   "execution_count": 80,
   "outputs": [],
   "source": [
    "def myfunc(x):\n",
    "    return x**2"
   ],
   "metadata": {
    "collapsed": false,
    "pycharm": {
     "name": "#%%\n"
    }
   }
  },
  {
   "cell_type": "code",
   "execution_count": 81,
   "outputs": [
    {
     "data": {
      "text/plain": "25"
     },
     "execution_count": 81,
     "metadata": {},
     "output_type": "execute_result"
    }
   ],
   "source": [
    "myfunc(5)"
   ],
   "metadata": {
    "collapsed": false,
    "pycharm": {
     "name": "#%%\n"
    }
   }
  },
  {
   "cell_type": "code",
   "execution_count": 82,
   "outputs": [],
   "source": [
    "lambda x: x**2"
   ],
   "metadata": {
    "collapsed": false,
    "pycharm": {
     "name": "#%%\n"
    }
   }
  },
  {
   "cell_type": "code",
   "execution_count": 83,
   "outputs": [
    {
     "data": {
      "text/plain": "25"
     },
     "execution_count": 83,
     "metadata": {},
     "output_type": "execute_result"
    }
   ],
   "source": [
    "myfunc_l(5)"
   ],
   "metadata": {
    "collapsed": false,
    "pycharm": {
     "name": "#%%\n"
    }
   }
  },
  {
   "cell_type": "code",
   "execution_count": 98,
   "outputs": [],
   "source": [
    "vacancy = vacancy.reset_index()"
   ],
   "metadata": {
    "collapsed": false,
    "pycharm": {
     "name": "#%%\n"
    }
   }
  },
  {
   "cell_type": "code",
   "execution_count": 86,
   "outputs": [
    {
     "data": {
      "text/plain": "dtype('<M8[ns]')"
     },
     "execution_count": 86,
     "metadata": {},
     "output_type": "execute_result"
    }
   ],
   "source": [
    "vacancy.vacdate.dtype"
   ],
   "metadata": {
    "collapsed": false,
    "pycharm": {
     "name": "#%%\n"
    }
   }
  },
  {
   "cell_type": "code",
   "execution_count": 102,
   "outputs": [],
   "source": [
    "def get_weekday(x):\n",
    "    return x.weekday()"
   ],
   "metadata": {
    "collapsed": false,
    "pycharm": {
     "name": "#%%\n"
    }
   }
  },
  {
   "cell_type": "code",
   "execution_count": 78,
   "outputs": [
    {
     "ename": "AttributeError",
     "evalue": "'DatetimeIndex' object has no attribute 'apply'",
     "output_type": "error",
     "traceback": [
      "\u001B[0;31m---------------------------------------------------------------------------\u001B[0m",
      "\u001B[0;31mAttributeError\u001B[0m                            Traceback (most recent call last)",
      "\u001B[0;32m/var/folders/9z/_pdr4vys3c9_sdhkgcm_5s540000gn/T/ipykernel_7087/3482502328.py\u001B[0m in \u001B[0;36m<module>\u001B[0;34m\u001B[0m\n\u001B[0;32m----> 1\u001B[0;31m \u001B[0mvacancy\u001B[0m\u001B[0;34m.\u001B[0m\u001B[0mindex\u001B[0m\u001B[0;34m.\u001B[0m\u001B[0mapply\u001B[0m\u001B[0;34m(\u001B[0m\u001B[0;32mlambda\u001B[0m \u001B[0mx\u001B[0m\u001B[0;34m:\u001B[0m \u001B[0mx\u001B[0m\u001B[0;34m.\u001B[0m\u001B[0mweekday\u001B[0m\u001B[0;34m)\u001B[0m\u001B[0;34m\u001B[0m\u001B[0;34m\u001B[0m\u001B[0m\n\u001B[0m",
      "\u001B[0;31mAttributeError\u001B[0m: 'DatetimeIndex' object has no attribute 'apply'"
     ]
    }
   ],
   "source": [
    "vacancy.vacdate.apply(lambda x: x.weekday)"
   ],
   "metadata": {
    "collapsed": false,
    "pycharm": {
     "name": "#%%\n"
    }
   }
  },
  {
   "cell_type": "code",
   "execution_count": null,
   "outputs": [],
   "source": [
    "vacancy.vacdate.apply(lambda x: get_weekday(x))"
   ],
   "metadata": {
    "collapsed": false,
    "pycharm": {
     "name": "#%%\n"
    }
   }
  },
  {
   "cell_type": "code",
   "execution_count": 105,
   "outputs": [
    {
     "data": {
      "text/plain": "    vacdate      id    vacid  \\\n535     NaT  384014  1504712   \n729     NaT  384208  1539459   \n\n                                              vactitle  \\\n535        Системный аналитик (платформа рекомендаций)   \n729  Главный инженер по сопровождению Департамента ...   \n\n                                        vacdescription vacstatus  \\\n535   Полный рабочий день, свободный графикДостойна...       new   \n729  Условия Достойная зработная плата (оклад + пре...       new   \n\n                                               vaclink  \n535  https://my.sbertalents.ru/#/job-requisition/15...  \n729  https://my.sbertalents.ru/#/job-requisition/15...  ",
      "text/html": "<div>\n<style scoped>\n    .dataframe tbody tr th:only-of-type {\n        vertical-align: middle;\n    }\n\n    .dataframe tbody tr th {\n        vertical-align: top;\n    }\n\n    .dataframe thead th {\n        text-align: right;\n    }\n</style>\n<table border=\"1\" class=\"dataframe\">\n  <thead>\n    <tr style=\"text-align: right;\">\n      <th></th>\n      <th>vacdate</th>\n      <th>id</th>\n      <th>vacid</th>\n      <th>vactitle</th>\n      <th>vacdescription</th>\n      <th>vacstatus</th>\n      <th>vaclink</th>\n    </tr>\n  </thead>\n  <tbody>\n    <tr>\n      <th>535</th>\n      <td>NaT</td>\n      <td>384014</td>\n      <td>1504712</td>\n      <td>Системный аналитик (платформа рекомендаций)</td>\n      <td>Полный рабочий день, свободный графикДостойна...</td>\n      <td>new</td>\n      <td>https://my.sbertalents.ru/#/job-requisition/15...</td>\n    </tr>\n    <tr>\n      <th>729</th>\n      <td>NaT</td>\n      <td>384208</td>\n      <td>1539459</td>\n      <td>Главный инженер по сопровождению Департамента ...</td>\n      <td>Условия Достойная зработная плата (оклад + пре...</td>\n      <td>new</td>\n      <td>https://my.sbertalents.ru/#/job-requisition/15...</td>\n    </tr>\n  </tbody>\n</table>\n</div>"
     },
     "execution_count": 105,
     "metadata": {},
     "output_type": "execute_result"
    }
   ],
   "source": [
    "vacancy[vacancy.vacdate.isna()]"
   ],
   "metadata": {
    "collapsed": false,
    "pycharm": {
     "name": "#%%\n"
    }
   }
  },
  {
   "cell_type": "code",
   "execution_count": 106,
   "outputs": [],
   "source": [
    "vacancy['weekday'] = vacancy['vacdate'].apply(lambda x: x.weekday())"
   ],
   "metadata": {
    "collapsed": false,
    "pycharm": {
     "name": "#%%\n"
    }
   }
  },
  {
   "cell_type": "code",
   "execution_count": 107,
   "outputs": [
    {
     "data": {
      "text/plain": "    vacdate      id    vacid  \\\n535     NaT  384014  1504712   \n729     NaT  384208  1539459   \n\n                                              vactitle  \\\n535        Системный аналитик (платформа рекомендаций)   \n729  Главный инженер по сопровождению Департамента ...   \n\n                                        vacdescription vacstatus  \\\n535   Полный рабочий день, свободный графикДостойна...       new   \n729  Условия Достойная зработная плата (оклад + пре...       new   \n\n                                               vaclink  weekday  \n535  https://my.sbertalents.ru/#/job-requisition/15...      NaN  \n729  https://my.sbertalents.ru/#/job-requisition/15...      NaN  ",
      "text/html": "<div>\n<style scoped>\n    .dataframe tbody tr th:only-of-type {\n        vertical-align: middle;\n    }\n\n    .dataframe tbody tr th {\n        vertical-align: top;\n    }\n\n    .dataframe thead th {\n        text-align: right;\n    }\n</style>\n<table border=\"1\" class=\"dataframe\">\n  <thead>\n    <tr style=\"text-align: right;\">\n      <th></th>\n      <th>vacdate</th>\n      <th>id</th>\n      <th>vacid</th>\n      <th>vactitle</th>\n      <th>vacdescription</th>\n      <th>vacstatus</th>\n      <th>vaclink</th>\n      <th>weekday</th>\n    </tr>\n  </thead>\n  <tbody>\n    <tr>\n      <th>535</th>\n      <td>NaT</td>\n      <td>384014</td>\n      <td>1504712</td>\n      <td>Системный аналитик (платформа рекомендаций)</td>\n      <td>Полный рабочий день, свободный графикДостойна...</td>\n      <td>new</td>\n      <td>https://my.sbertalents.ru/#/job-requisition/15...</td>\n      <td>NaN</td>\n    </tr>\n    <tr>\n      <th>729</th>\n      <td>NaT</td>\n      <td>384208</td>\n      <td>1539459</td>\n      <td>Главный инженер по сопровождению Департамента ...</td>\n      <td>Условия Достойная зработная плата (оклад + пре...</td>\n      <td>new</td>\n      <td>https://my.sbertalents.ru/#/job-requisition/15...</td>\n      <td>NaN</td>\n    </tr>\n  </tbody>\n</table>\n</div>"
     },
     "execution_count": 107,
     "metadata": {},
     "output_type": "execute_result"
    }
   ],
   "source": [
    "vacancy[vacancy.vacdate.isna()]"
   ],
   "metadata": {
    "collapsed": false,
    "pycharm": {
     "name": "#%%\n"
    }
   }
  },
  {
   "cell_type": "code",
   "execution_count": 109,
   "outputs": [],
   "source": [
    "# vacancy.dropna()"
   ],
   "metadata": {
    "collapsed": false,
    "pycharm": {
     "name": "#%%\n"
    }
   }
  },
  {
   "cell_type": "code",
   "execution_count": 114,
   "outputs": [],
   "source": [
    "vacancy = vacancy.sort_values(by=['vacdate','vactitle'], ascending=[True,True])"
   ],
   "metadata": {
    "collapsed": false,
    "pycharm": {
     "name": "#%%\n"
    }
   }
  },
  {
   "cell_type": "markdown",
   "source": [],
   "metadata": {
    "collapsed": false
   }
  },
  {
   "cell_type": "code",
   "execution_count": 118,
   "metadata": {},
   "outputs": [],
   "source": [
    "# найти профессии с самым большим количеством вакансий и построить по ним график\n",
    "vacs = vacancy.groupby('vactitle')['vacid'].count().reset_index()\n"
   ]
  },
  {
   "cell_type": "code",
   "execution_count": 117,
   "metadata": {},
   "outputs": [
    {
     "data": {
      "text/plain": "vactitle\nМобильный менеджер по продажам                                  229\nСтарший менеджер по обслуживанию                                172\nСпециалист по прямым продажам                                   164\nМенеджер по продажам                                             86\nСистемный аналитик                                               62\n                                                               ... \nАналитик витрин данных                                            1\nАналитик в штаб блока \"Розничный бизнес\"                          1\nАналитик в команду исследования клиентской удовлетворенности      1\nАналитик в команду «Бюджетирование»                               1\nспециалист по прямым продажам                                     1\nName: vacid, Length: 2167, dtype: int64"
     },
     "execution_count": 117,
     "metadata": {},
     "output_type": "execute_result"
    }
   ],
   "source": [
    "vacancy.groupby('vactitle')['vacid'].count().sort_values(ascending=False)"
   ]
  },
  {
   "cell_type": "code",
   "execution_count": 119,
   "outputs": [],
   "source": [],
   "metadata": {
    "collapsed": false,
    "pycharm": {
     "name": "#%%\n"
    }
   }
  },
  {
   "cell_type": "code",
   "execution_count": 120,
   "metadata": {},
   "outputs": [],
   "source": [
    "vacs = vacs.sort_values(by='vacid',ascending=False)"
   ]
  },
  {
   "cell_type": "code",
   "execution_count": 125,
   "outputs": [
    {
     "data": {
      "text/plain": "                              vactitle  vacid\n1371    Мобильный менеджер по продажам    229\n1919  Старший менеджер по обслуживанию    172\n1772     Специалист по прямым продажам    164\n1305              Менеджер по продажам     86\n1665                Системный аналитик     62",
      "text/html": "<div>\n<style scoped>\n    .dataframe tbody tr th:only-of-type {\n        vertical-align: middle;\n    }\n\n    .dataframe tbody tr th {\n        vertical-align: top;\n    }\n\n    .dataframe thead th {\n        text-align: right;\n    }\n</style>\n<table border=\"1\" class=\"dataframe\">\n  <thead>\n    <tr style=\"text-align: right;\">\n      <th></th>\n      <th>vactitle</th>\n      <th>vacid</th>\n    </tr>\n  </thead>\n  <tbody>\n    <tr>\n      <th>1371</th>\n      <td>Мобильный менеджер по продажам</td>\n      <td>229</td>\n    </tr>\n    <tr>\n      <th>1919</th>\n      <td>Старший менеджер по обслуживанию</td>\n      <td>172</td>\n    </tr>\n    <tr>\n      <th>1772</th>\n      <td>Специалист по прямым продажам</td>\n      <td>164</td>\n    </tr>\n    <tr>\n      <th>1305</th>\n      <td>Менеджер по продажам</td>\n      <td>86</td>\n    </tr>\n    <tr>\n      <th>1665</th>\n      <td>Системный аналитик</td>\n      <td>62</td>\n    </tr>\n  </tbody>\n</table>\n</div>"
     },
     "execution_count": 125,
     "metadata": {},
     "output_type": "execute_result"
    }
   ],
   "source": [
    "vacs.nlargest(5, 'vacid')"
   ],
   "metadata": {
    "collapsed": false,
    "pycharm": {
     "name": "#%%\n"
    }
   }
  },
  {
   "cell_type": "code",
   "execution_count": 129,
   "metadata": {},
   "outputs": [
    {
     "data": {
      "text/plain": "<Figure size 432x288 with 1 Axes>",
      "image/png": "[encoded data removed]"
     },
     "metadata": {
      "needs_background": "light"
     },
     "output_type": "display_data"
    }
   ],
   "source": [
    "vacs.nlargest(5, 'vacid').set_index('vactitle').plot(kind='barh');"
   ]
  },
  {
   "cell_type": "code",
   "execution_count": 9,
   "metadata": {},
   "outputs": [],
   "source": [
    "# Найти вакансии аналитика\n",
    "s = 'аналитик'.lower()\n",
    "python_s = 'python'"
   ]
  },
  {
   "cell_type": "code",
   "execution_count": 10,
   "metadata": {},
   "outputs": [
    {
     "data": {
      "text/plain": "(57, 6)"
     },
     "execution_count": 10,
     "metadata": {},
     "output_type": "execute_result"
    }
   ],
   "source": [
    "t1 = vacancy.vactitle.str.lower().str.contains(s)\n",
    "t2 = vacancy.vacdescription.str.lower().str.contains(python_s)\n",
    "vacancy[t1 & t2].shape"
   ]
  },
  {
   "cell_type": "code",
   "execution_count": 142,
   "outputs": [],
   "source": [
    "cols = ['weekday']\n",
    "vacancy.loc[vacancy.vactitle.str.lower().str.contains('python'), cols] = 1"
   ],
   "metadata": {
    "collapsed": false,
    "pycharm": {
     "name": "#%%\n"
    }
   }
  },
  {
   "cell_type": "code",
   "execution_count": 148,
   "outputs": [],
   "source": [
    "vac = vacancy[vacancy.vactitle.str.lower().str.contains('python')].copy()"
   ],
   "metadata": {
    "collapsed": false,
    "pycharm": {
     "name": "#%%\n"
    }
   }
  },
  {
   "cell_type": "code",
   "execution_count": 149,
   "outputs": [],
   "source": [
    "vac['weekday'] = 2"
   ],
   "metadata": {
    "collapsed": false,
    "pycharm": {
     "name": "#%%\n"
    }
   }
  },
  {
   "cell_type": "code",
   "execution_count": 150,
   "outputs": [],
   "source": [],
   "metadata": {
    "collapsed": false,
    "pycharm": {
     "name": "#%%\n"
    }
   }
  },
  {
   "cell_type": "code",
   "execution_count": 14,
   "outputs": [
    {
     "data": {
      "text/plain": "       vacdate      id    vacid  \\\n763 2021-03-17  382996  1455842   \n777 2021-03-17  383093  1435646   \n790 2021-03-17  383167  1602561   \n789 2021-03-17  383166  1602558   \n788 2021-03-17  383155  1599185   \n\n                                              vactitle  \\\n763  Старший инженер отдела информационной безопасн...   \n777                     Тестировщик (java разработчик)   \n790                                             DevOps   \n789                       Site Reliability Engineering   \n788                Системный аналитик в Сбер Аналитику   \n\n                                        vacdescription vacstatus  \\\n763  Условия: работа в крупнейшем банке России;труд...       new   \n777  Сбер — больше чем банк, это вселенная полезных...       new   \n790  Cбербанк продолжает масштабный проект по созда...       new   \n789  Cбер продолжает масштабный проект по созданию ...       new   \n788   Условия:∙ Офис метро Нарвская, пр. Старо-Пете...       new   \n\n                                               vaclink  \n763  https://my.sbertalents.ru/#/job-requisition/14...  \n777  https://my.sbertalents.ru/#/job-requisition/14...  \n790  https://my.sbertalents.ru/#/job-requisition/16...  \n789  https://my.sbertalents.ru/#/job-requisition/16...  \n788  https://my.sbertalents.ru/#/job-requisition/15...  ",
      "text/html": "<div>\n<style scoped>\n    .dataframe tbody tr th:only-of-type {\n        vertical-align: middle;\n    }\n\n    .dataframe tbody tr th {\n        vertical-align: top;\n    }\n\n    .dataframe thead th {\n        text-align: right;\n    }\n</style>\n<table border=\"1\" class=\"dataframe\">\n  <thead>\n    <tr style=\"text-align: right;\">\n      <th></th>\n      <th>vacdate</th>\n      <th>id</th>\n      <th>vacid</th>\n      <th>vactitle</th>\n      <th>vacdescription</th>\n      <th>vacstatus</th>\n      <th>vaclink</th>\n    </tr>\n  </thead>\n  <tbody>\n    <tr>\n      <th>763</th>\n      <td>2021-03-17</td>\n      <td>382996</td>\n      <td>1455842</td>\n      <td>Старший инженер отдела информационной безопасн...</td>\n      <td>Условия: работа в крупнейшем банке России;труд...</td>\n      <td>new</td>\n      <td>https://my.sbertalents.ru/#/job-requisition/14...</td>\n    </tr>\n    <tr>\n      <th>777</th>\n      <td>2021-03-17</td>\n      <td>383093</td>\n      <td>1435646</td>\n      <td>Тестировщик (java разработчик)</td>\n      <td>Сбер — больше чем банк, это вселенная полезных...</td>\n      <td>new</td>\n      <td>https://my.sbertalents.ru/#/job-requisition/14...</td>\n    </tr>\n    <tr>\n      <th>790</th>\n      <td>2021-03-17</td>\n      <td>383167</td>\n      <td>1602561</td>\n      <td>DevOps</td>\n      <td>Cбербанк продолжает масштабный проект по созда...</td>\n      <td>new</td>\n      <td>https://my.sbertalents.ru/#/job-requisition/16...</td>\n    </tr>\n    <tr>\n      <th>789</th>\n      <td>2021-03-17</td>\n      <td>383166</td>\n      <td>1602558</td>\n      <td>Site Reliability Engineering</td>\n      <td>Cбер продолжает масштабный проект по созданию ...</td>\n      <td>new</td>\n      <td>https://my.sbertalents.ru/#/job-requisition/16...</td>\n    </tr>\n    <tr>\n      <th>788</th>\n      <td>2021-03-17</td>\n      <td>383155</td>\n      <td>1599185</td>\n      <td>Системный аналитик в Сбер Аналитику</td>\n      <td>Условия:∙ Офис метро Нарвская, пр. Старо-Пете...</td>\n      <td>new</td>\n      <td>https://my.sbertalents.ru/#/job-requisition/15...</td>\n    </tr>\n  </tbody>\n</table>\n</div>"
     },
     "execution_count": 14,
     "metadata": {},
     "output_type": "execute_result"
    }
   ],
   "source": [
    "# отфильтровать вакансии по дате\n",
    "vacancy[t1 | t2].reset_index().sort_values(by='vacdate', ascending=False).head()"
   ],
   "metadata": {
    "collapsed": false,
    "pycharm": {
     "name": "#%%\n"
    }
   }
  },
  {
   "cell_type": "code",
   "execution_count": 2,
   "outputs": [],
   "source": [
    "from parser import VacancyParser"
   ],
   "metadata": {
    "collapsed": false,
    "pycharm": {
     "name": "#%%\n"
    }
   }
  },
  {
   "cell_type": "code",
   "execution_count": 11,
   "outputs": [],
   "source": [
    "vp = parser.VacancyParser()"
   ],
   "metadata": {
    "collapsed": false,
    "pycharm": {
     "name": "#%%\n"
    }
   }
  },
  {
   "cell_type": "code",
   "execution_count": 10,
   "outputs": [
    {
     "data": {
      "text/plain": "<module 'parser' from '/Users/lev4/Projects/reboot_october/new_course/Lesson2/parser.py'>"
     },
     "execution_count": 10,
     "metadata": {},
     "output_type": "execute_result"
    }
   ],
   "source": [
    "import importlib\n",
    "import parser\n",
    "importlib.reload(parser)"
   ],
   "metadata": {
    "collapsed": false,
    "pycharm": {
     "name": "#%%\n"
    }
   }
  },
  {
   "cell_type": "code",
   "execution_count": 12,
   "outputs": [
    {
     "data": {
      "text/plain": "  0%|          | 0/100 [00:00<?, ?it/s]",
      "application/vnd.jupyter.widget-view+json": {
       "version_major": 2,
       "version_minor": 0,
       "model_id": "21061f290a894f0a9f053ca532fbf96f"
      }
     },
     "metadata": {},
     "output_type": "display_data"
    },
    {
     "name": "stderr",
     "output_type": "stream",
     "text": [
      "INFO:root:Скачиваю вакансии. Страница 0 в выдаче по 100\n"
     ]
    },
    {
     "ename": "KeyError",
     "evalue": "'content'",
     "output_type": "error",
     "traceback": [
      "\u001B[0;31m---------------------------------------------------------------------------\u001B[0m",
      "\u001B[0;31mKeyError\u001B[0m                                  Traceback (most recent call last)",
      "\u001B[0;32m/var/folders/9z/_pdr4vys3c9_sdhkgcm_5s540000gn/T/ipykernel_1691/443435226.py\u001B[0m in \u001B[0;36m<module>\u001B[0;34m\u001B[0m\n\u001B[0;32m----> 1\u001B[0;31m \u001B[0mvacs\u001B[0m \u001B[0;34m=\u001B[0m \u001B[0mvp\u001B[0m\u001B[0;34m.\u001B[0m\u001B[0mget_vacancies\u001B[0m\u001B[0;34m(\u001B[0m\u001B[0;34m)\u001B[0m\u001B[0;34m\u001B[0m\u001B[0;34m\u001B[0m\u001B[0m\n\u001B[0m",
      "\u001B[0;32m~/Projects/reboot_october/new_course/Lesson2/parser.py\u001B[0m in \u001B[0;36mget_vacancies\u001B[0;34m(self, num_vacancies)\u001B[0m\n\u001B[1;32m     31\u001B[0m             \u001B[0murl\u001B[0m \u001B[0;34m=\u001B[0m \u001B[0;34mf'https://my.sbertalents.ru/job-requisition/v2?page={i}&size={num_vacancies}'\u001B[0m\u001B[0;34m\u001B[0m\u001B[0;34m\u001B[0m\u001B[0m\n\u001B[1;32m     32\u001B[0m             \u001B[0mres\u001B[0m \u001B[0;34m=\u001B[0m \u001B[0mrequests\u001B[0m\u001B[0;34m.\u001B[0m\u001B[0mget\u001B[0m\u001B[0;34m(\u001B[0m\u001B[0murl\u001B[0m\u001B[0;34m,\u001B[0m \u001B[0mverify\u001B[0m \u001B[0;34m=\u001B[0m \u001B[0;32mFalse\u001B[0m\u001B[0;34m)\u001B[0m\u001B[0;34m.\u001B[0m\u001B[0mjson\u001B[0m\u001B[0;34m(\u001B[0m\u001B[0;34m)\u001B[0m\u001B[0;34m\u001B[0m\u001B[0;34m\u001B[0m\u001B[0m\n\u001B[0;32m---> 33\u001B[0;31m             \u001B[0;32mif\u001B[0m \u001B[0mlen\u001B[0m\u001B[0;34m(\u001B[0m\u001B[0mres\u001B[0m\u001B[0;34m[\u001B[0m\u001B[0;34m'content'\u001B[0m\u001B[0;34m]\u001B[0m\u001B[0;34m)\u001B[0m \u001B[0;34m>\u001B[0m \u001B[0;36m0\u001B[0m\u001B[0;34m:\u001B[0m\u001B[0;34m\u001B[0m\u001B[0;34m\u001B[0m\u001B[0m\n\u001B[0m\u001B[1;32m     34\u001B[0m                 \u001B[0mself\u001B[0m\u001B[0;34m.\u001B[0m\u001B[0mvacs\u001B[0m\u001B[0;34m.\u001B[0m\u001B[0mextend\u001B[0m\u001B[0;34m(\u001B[0m\u001B[0mres\u001B[0m\u001B[0;34m[\u001B[0m\u001B[0;34m'content'\u001B[0m\u001B[0;34m]\u001B[0m\u001B[0;34m)\u001B[0m\u001B[0;34m\u001B[0m\u001B[0;34m\u001B[0m\u001B[0m\n\u001B[1;32m     35\u001B[0m             \u001B[0;32melse\u001B[0m\u001B[0;34m:\u001B[0m\u001B[0;34m\u001B[0m\u001B[0;34m\u001B[0m\u001B[0m\n",
      "\u001B[0;31mKeyError\u001B[0m: 'content'"
     ]
    }
   ],
   "source": [
    "vacs = vp.get_vacancies()"
   ],
   "metadata": {
    "collapsed": false,
    "pycharm": {
     "name": "#%%\n"
    }
   }
  },
  {
   "cell_type": "code",
   "execution_count": null,
   "outputs": [],
   "source": [],
   "metadata": {
    "collapsed": false,
    "pycharm": {
     "name": "#%%\n"
    }
   }
  }
 ],
 "metadata": {
  "kernelspec": {
   "display_name": "Python 3",
   "language": "python",
   "name": "python3"
  },
  "language_info": {
   "codemirror_mode": {
    "name": "ipython",
    "version": 3
   },
   "file_extension": ".py",
   "mimetype": "text/x-python",
   "name": "python",
   "nbconvert_exporter": "python",
   "pygments_lexer": "ipython3",
   "version": "3.8.5"
  }
 },
 "nbformat": 4,
 "nbformat_minor": 4
}
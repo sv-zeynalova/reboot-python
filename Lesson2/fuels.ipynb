{
 "cells": [
  {
   "cell_type": "code",
   "execution_count": 1,
   "metadata": {
    "collapsed": true
   },
   "outputs": [],
   "source": [
    "import pandas as pd\n",
    "import requests\n",
    "from tqdm.auto import tqdm\n",
    "from collections import defaultdict"
   ]
  },
  {
   "cell_type": "code",
   "execution_count": 4,
   "outputs": [],
   "source": [
    "headers = {'X-Requested-With': 'XMLHttpRequest'}\n",
    "payload = ({'region':'77'})\n",
    "url = 'http://www.rosneft-azs.ru/map_search'\n",
    "r = requests.post(url, data=payload, headers=headers)"
   ],
   "metadata": {
    "collapsed": false,
    "pycharm": {
     "name": "#%%\n"
    }
   }
  },
  {
   "cell_type": "code",
   "execution_count": 7,
   "outputs": [],
   "source": [],
   "metadata": {
    "collapsed": false,
    "pycharm": {
     "name": "#%%\n"
    }
   }
  },
  {
   "cell_type": "code",
   "execution_count": 8,
   "outputs": [],
   "source": [
    "res = r.json()"
   ],
   "metadata": {
    "collapsed": false,
    "pycharm": {
     "name": "#%%\n"
    }
   }
  },
  {
   "cell_type": "code",
   "execution_count": 10,
   "outputs": [],
   "source": [
    "stations = res['stations']"
   ],
   "metadata": {
    "collapsed": false,
    "pycharm": {
     "name": "#%%\n"
    }
   }
  },
  {
   "cell_type": "code",
   "execution_count": 14,
   "outputs": [
    {
     "data": {
      "text/plain": "{'id': 58520,\n 'name': 'РН-Ростовнефтепродукт',\n 'brand': 0,\n 'rename_fora': 1,\n 'floating': 0,\n 'address': 'Ростовская обл., Мясниковский р-н, п. Чалтырь, а/д М23, 9 км, слева',\n 'region_code': 61,\n 'contacts': '',\n 'email': '',\n 'lat': 47.26534,\n 'lng': 39.58035,\n 'services': {'shop': 1,\n  'cafe': 0,\n  'wash': 0,\n  'tire': 0,\n  'hotel': 0,\n  'yagas': 0,\n  'electro': 0,\n  'qrpay': 0,\n  'cash': 0,\n  'finmarket': 0,\n  'chemistry': 0,\n  'visa': 1},\n 'price': [{'available': 1, 'type': 92, 'price': 46.74, 'fora': 47.24},\n  {'available': 1, 'type': '92_fora', 'price': 47.24, 'fora': 0},\n  {'available': 1, 'type': 95, 'price': 0, 'fora': 51.84},\n  {'available': 1, 'type': '95_fora', 'price': 51.84, 'fora': 0},\n  {'available': 0, 'type': '95_jet', 'price': 0, 'fora': 0},\n  {'available': 0, 'type': 98, 'price': 0, 'fora': 0},\n  {'available': 0, 'type': '98_fora', 'price': 0, 'fora': 0},\n  {'available': 0, 'type': 100, 'price': 0, 'fora': 0},\n  {'available': 0, 'type': '100_pulsar', 'price': 0, 'fora': 0},\n  {'available': 1, 'type': 'diesel', 'price': 48.8, 'fora': 0},\n  {'available': 0, 'type': 'diesel_fora', 'price': 0, 'fora': 0},\n  {'available': 0, 'type': 'gas', 'price': 0, 'fora': 0},\n  {'available': 0, 'type': 'methane', 'price': 0, 'fora': 0}],\n 'schedule': {'mon': {'start': '', 'end': '', 'available': 0},\n  'tue': {'start': '', 'end': '', 'available': 0},\n  'wed': {'start': '', 'end': '', 'available': 0},\n  'thu': {'start': '', 'end': '', 'available': 0},\n  'fri': {'start': '', 'end': '', 'available': 0},\n  'sut': {'start': '', 'end': '', 'available': 0},\n  'sun': {'start': '', 'end': '', 'available': 0}},\n 'last_update': '20.10.2021',\n 'mask': '2098064'}"
     },
     "execution_count": 14,
     "metadata": {},
     "output_type": "execute_result"
    }
   ],
   "source": [
    "stations[0]"
   ],
   "metadata": {
    "collapsed": false,
    "pycharm": {
     "name": "#%%\n"
    }
   }
  },
  {
   "cell_type": "code",
   "execution_count": 17,
   "outputs": [],
   "source": [
    "url = 'http://www.rosneft-azs.ru/map_search'"
   ],
   "metadata": {
    "collapsed": false,
    "pycharm": {
     "name": "#%%\n"
    }
   }
  },
  {
   "cell_type": "code",
   "execution_count": 18,
   "outputs": [
    {
     "data": {
      "text/plain": "  0%|          | 0/2342 [00:00<?, ?it/s]",
      "application/vnd.jupyter.widget-view+json": {
       "version_major": 2,
       "version_minor": 0,
       "model_id": "1abb08b52f8847e7b53ffb58b307f179"
      }
     },
     "metadata": {},
     "output_type": "display_data"
    }
   ],
   "source": [
    "# Формируем словарь со списками для колонок таблицы\n",
    "# tab_dict = {'Azs':[],'Address' :[],'Price92':[],'Price95':[]}\n",
    "tab_dict = defaultdict(list)\n",
    "# Заполняем списки с помощью цикла\n",
    "for station in tqdm(stations):\n",
    "    tab_dict['Azs'].append(station['id'])\n",
    "    tab_dict['Address'].append(station['address'])\n",
    "    for d in station['price']:\n",
    "        if d['type'] == 92:\n",
    "            tab_dict['Price92'].append(d['price'])\n",
    "        elif d['type'] == 95:\n",
    "            tab_dict['Price95'].append(d['price'])"
   ],
   "metadata": {
    "collapsed": false,
    "pycharm": {
     "name": "#%%\n"
    }
   }
  },
  {
   "cell_type": "code",
   "execution_count": 14,
   "outputs": [
    {
     "data": {
      "text/plain": "     Azs                                            Address  Price92  Price95\n0  58520  Ростовская обл., Мясниковский р-н, п. Чалтырь,...    46.74     0.00\n1  58316  Владимирская обл., Судогодский р-н, д. Лаврово...    45.40    48.90\n2  58519  Ростовская обл., г. Ростов-на-Дону, ул. 40 Лет...    46.74    51.14\n3  58509        Калужская обл., г. Калуга, ул. Зерновая, 34    44.10    47.20\n4  58511  Калужская обл., Боровский р-н, г. Балабаново, ...    44.10    47.35",
      "text/html": "<div>\n<style scoped>\n    .dataframe tbody tr th:only-of-type {\n        vertical-align: middle;\n    }\n\n    .dataframe tbody tr th {\n        vertical-align: top;\n    }\n\n    .dataframe thead th {\n        text-align: right;\n    }\n</style>\n<table border=\"1\" class=\"dataframe\">\n  <thead>\n    <tr style=\"text-align: right;\">\n      <th></th>\n      <th>Azs</th>\n      <th>Address</th>\n      <th>Price92</th>\n      <th>Price95</th>\n    </tr>\n  </thead>\n  <tbody>\n    <tr>\n      <th>0</th>\n      <td>58520</td>\n      <td>Ростовская обл., Мясниковский р-н, п. Чалтырь,...</td>\n      <td>46.74</td>\n      <td>0.00</td>\n    </tr>\n    <tr>\n      <th>1</th>\n      <td>58316</td>\n      <td>Владимирская обл., Судогодский р-н, д. Лаврово...</td>\n      <td>45.40</td>\n      <td>48.90</td>\n    </tr>\n    <tr>\n      <th>2</th>\n      <td>58519</td>\n      <td>Ростовская обл., г. Ростов-на-Дону, ул. 40 Лет...</td>\n      <td>46.74</td>\n      <td>51.14</td>\n    </tr>\n    <tr>\n      <th>3</th>\n      <td>58509</td>\n      <td>Калужская обл., г. Калуга, ул. Зерновая, 34</td>\n      <td>44.10</td>\n      <td>47.20</td>\n    </tr>\n    <tr>\n      <th>4</th>\n      <td>58511</td>\n      <td>Калужская обл., Боровский р-н, г. Балабаново, ...</td>\n      <td>44.10</td>\n      <td>47.35</td>\n    </tr>\n  </tbody>\n</table>\n</div>"
     },
     "execution_count": 14,
     "metadata": {},
     "output_type": "execute_result"
    }
   ],
   "source": [
    "rn = pd.DataFrame.from_dict(tab_dict)\n",
    "rn.head()"
   ],
   "metadata": {
    "collapsed": false,
    "pycharm": {
     "name": "#%%\n"
    }
   }
  },
  {
   "cell_type": "code",
   "execution_count": 12,
   "outputs": [],
   "source": [
    "# Добавить в таблицу другие виды топлива\n",
    "#----- Ваш код здесь ----"
   ],
   "metadata": {
    "collapsed": false,
    "pycharm": {
     "name": "#%%\n"
    }
   }
  },
  {
   "cell_type": "code",
   "execution_count": null,
   "outputs": [],
   "source": [
    "# Отделить регионы от адреса АЗС\n",
    "#----- Ваш код здесь ----"
   ],
   "metadata": {
    "collapsed": false,
    "pycharm": {
     "name": "#%%\n"
    }
   }
  },
  {
   "cell_type": "code",
   "execution_count": null,
   "outputs": [],
   "source": [
    "# Выбрать АЗС из Белоруссии и сохранить в rnbelarus\n",
    "#----- Ваш код здесь ---"
   ],
   "metadata": {
    "collapsed": false,
    "pycharm": {
     "name": "#%%\n"
    }
   }
  },
  {
   "cell_type": "code",
   "execution_count": null,
   "outputs": [],
   "source": [
    "# Пересчитать цены rnbelarus в рубли\n",
    "#----- Ваш код здесь ----"
   ],
   "metadata": {
    "collapsed": false,
    "pycharm": {
     "name": "#%%\n"
    }
   }
  },
  {
   "cell_type": "code",
   "execution_count": null,
   "outputs": [],
   "source": [
    "# Убрать АЗС из Белоруссии из таблциы rn\n",
    "#----- Ваш код здесь ----"
   ],
   "metadata": {
    "collapsed": false,
    "pycharm": {
     "name": "#%%\n"
    }
   }
  },
  {
   "cell_type": "code",
   "execution_count": null,
   "outputs": [],
   "source": [
    "# Расчитать средние цены на топливо по регионам\n",
    "#----- Ваш код здесь ----"
   ],
   "metadata": {
    "collapsed": false,
    "pycharm": {
     "name": "#%%\n"
    }
   }
  },
  {
   "cell_type": "code",
   "execution_count": null,
   "outputs": [],
   "source": [
    "# Создать директорию regional_prices\n",
    "#----- Ваш код здесь ----"
   ],
   "metadata": {
    "collapsed": false,
    "pycharm": {
     "name": "#%%\n"
    }
   }
  },
  {
   "cell_type": "code",
   "execution_count": null,
   "outputs": [],
   "source": [
    "# Записать в отдельный .csv файл цены для каждого региона.\n",
    "# Разделить должен быть знак табуляции sep='\\t'\n",
    "# Название файла записать как название региона, заменив пробел на _\n",
    "#----- Ваш код здесь ----"
   ],
   "metadata": {
    "collapsed": false,
    "pycharm": {
     "name": "#%%\n"
    }
   }
  },
  {
   "cell_type": "code",
   "execution_count": null,
   "outputs": [],
   "source": [
    "# Выведите содержимое директории в переменную list_of_files\n",
    "#----- Ваш код здесь ----"
   ],
   "metadata": {
    "collapsed": false,
    "pycharm": {
     "name": "#%%\n"
    }
   }
  },
  {
   "cell_type": "code",
   "execution_count": null,
   "outputs": [],
   "source": [
    "# Создайте словарь regional_prices и заполните его таким образом, чтобы\n",
    "# ключ был название файла без .csv, а значения - список строк, счиатанных из файла\n",
    "#----- Ваш код здесь ----"
   ],
   "metadata": {
    "collapsed": false,
    "pycharm": {
     "name": "#%%\n"
    }
   }
  },
  {
   "cell_type": "code",
   "execution_count": null,
   "outputs": [],
   "source": [
    "# Соберите таблицу rnnew из словаря regional_prices\n",
    "#----- Ваш код здесь ----"
   ],
   "metadata": {
    "collapsed": false,
    "pycharm": {
     "name": "#%%\n"
    }
   }
  }
 ],
 "metadata": {
  "kernelspec": {
   "display_name": "Python 3",
   "language": "python",
   "name": "python3"
  },
  "language_info": {
   "codemirror_mode": {
    "name": "ipython",
    "version": 2
   },
   "file_extension": ".py",
   "mimetype": "text/x-python",
   "name": "python",
   "nbconvert_exporter": "python",
   "pygments_lexer": "ipython2",
   "version": "2.7.6"
  }
 },
 "nbformat": 4,
 "nbformat_minor": 0
}
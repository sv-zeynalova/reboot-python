{
 "cells": [
  {
   "cell_type": "markdown",
   "source": [
    "# Pandas и присоединение таблиц"
   ],
   "metadata": {
    "collapsed": false
   }
  },
  {
   "cell_type": "code",
   "execution_count": 1,
   "outputs": [],
   "source": [
    "import pandas as pd\n",
    "import os"
   ],
   "metadata": {
    "collapsed": false,
    "pycharm": {
     "name": "#%%\n"
    }
   }
  },
  {
   "cell_type": "code",
   "execution_count": 6,
   "outputs": [],
   "source": [
    "df = pd.read_excel(os.path.join('data','medals.xlsx'), engine='openpyxl')"
   ],
   "metadata": {
    "collapsed": false,
    "pycharm": {
     "name": "#%%\n"
    }
   }
  },
  {
   "cell_type": "code",
   "execution_count": 6,
   "outputs": [
    {
     "data": {
      "text/plain": "   Rank                    Team/NOC  Gold  Silver  Bronze  Total  \\\n0     1    United States of America    39      41      33    113   \n1     2  People's Republic of China    38      32      18     88   \n2     3                       Japan    27      14      17     58   \n3     4               Great Britain    22      21      22     65   \n4     5                         ROC    20      28      23     71   \n\n   Rank by Total  \n0              1  \n1              2  \n2              5  \n3              4  \n4              3  ",
      "text/html": "<div>\n<style scoped>\n    .dataframe tbody tr th:only-of-type {\n        vertical-align: middle;\n    }\n\n    .dataframe tbody tr th {\n        vertical-align: top;\n    }\n\n    .dataframe thead th {\n        text-align: right;\n    }\n</style>\n<table border=\"1\" class=\"dataframe\">\n  <thead>\n    <tr style=\"text-align: right;\">\n      <th></th>\n      <th>Rank</th>\n      <th>Team/NOC</th>\n      <th>Gold</th>\n      <th>Silver</th>\n      <th>Bronze</th>\n      <th>Total</th>\n      <th>Rank by Total</th>\n    </tr>\n  </thead>\n  <tbody>\n    <tr>\n      <th>0</th>\n      <td>1</td>\n      <td>United States of America</td>\n      <td>39</td>\n      <td>41</td>\n      <td>33</td>\n      <td>113</td>\n      <td>1</td>\n    </tr>\n    <tr>\n      <th>1</th>\n      <td>2</td>\n      <td>People's Republic of China</td>\n      <td>38</td>\n      <td>32</td>\n      <td>18</td>\n      <td>88</td>\n      <td>2</td>\n    </tr>\n    <tr>\n      <th>2</th>\n      <td>3</td>\n      <td>Japan</td>\n      <td>27</td>\n      <td>14</td>\n      <td>17</td>\n      <td>58</td>\n      <td>5</td>\n    </tr>\n    <tr>\n      <th>3</th>\n      <td>4</td>\n      <td>Great Britain</td>\n      <td>22</td>\n      <td>21</td>\n      <td>22</td>\n      <td>65</td>\n      <td>4</td>\n    </tr>\n    <tr>\n      <th>4</th>\n      <td>5</td>\n      <td>ROC</td>\n      <td>20</td>\n      <td>28</td>\n      <td>23</td>\n      <td>71</td>\n      <td>3</td>\n    </tr>\n  </tbody>\n</table>\n</div>"
     },
     "execution_count": 6,
     "metadata": {},
     "output_type": "execute_result"
    }
   ],
   "source": [
    "df.head()"
   ],
   "metadata": {
    "collapsed": false,
    "pycharm": {
     "name": "#%%\n"
    }
   }
  },
  {
   "cell_type": "code",
   "execution_count": 7,
   "outputs": [
    {
     "name": "stdout",
     "output_type": "stream",
     "text": [
      "<class 'pandas.core.frame.DataFrame'>\n",
      "RangeIndex: 93 entries, 0 to 92\n",
      "Data columns (total 7 columns):\n",
      " #   Column         Non-Null Count  Dtype \n",
      "---  ------         --------------  ----- \n",
      " 0   Rank           93 non-null     int64 \n",
      " 1   Team/NOC       93 non-null     object\n",
      " 2   Gold           93 non-null     int64 \n",
      " 3   Silver         93 non-null     int64 \n",
      " 4   Bronze         93 non-null     int64 \n",
      " 5   Total          93 non-null     int64 \n",
      " 6   Rank by Total  93 non-null     int64 \n",
      "dtypes: int64(6), object(1)\n",
      "memory usage: 5.2+ KB\n"
     ]
    }
   ],
   "source": [
    "df.info()"
   ],
   "metadata": {
    "collapsed": false,
    "pycharm": {
     "name": "#%%\n"
    }
   }
  },
  {
   "cell_type": "code",
   "execution_count": 8,
   "outputs": [
    {
     "data": {
      "text/plain": "Index(['Rank', 'Team/NOC', 'Gold', 'Silver', 'Bronze', 'Total',\n       'Rank by Total'],\n      dtype='object')"
     },
     "execution_count": 8,
     "metadata": {},
     "output_type": "execute_result"
    }
   ],
   "source": [
    "df.columns"
   ],
   "metadata": {
    "collapsed": false,
    "pycharm": {
     "name": "#%%\n"
    }
   }
  },
  {
   "cell_type": "code",
   "execution_count": 9,
   "outputs": [
    {
     "data": {
      "text/plain": "                      Team/NOC  Gold  Silver  Bronze\n0     United States of America    39      41      33\n1   People's Republic of China    38      32      18\n2                        Japan    27      14      17\n3                Great Britain    22      21      22\n4                          ROC    20      28      23\n..                         ...   ...     ...     ...\n88                       Ghana     0       0       1\n89                     Grenada     0       0       1\n90                      Kuwait     0       0       1\n91         Republic of Moldova     0       0       1\n92        Syrian Arab Republic     0       0       1\n\n[93 rows x 4 columns]",
      "text/html": "<div>\n<style scoped>\n    .dataframe tbody tr th:only-of-type {\n        vertical-align: middle;\n    }\n\n    .dataframe tbody tr th {\n        vertical-align: top;\n    }\n\n    .dataframe thead th {\n        text-align: right;\n    }\n</style>\n<table border=\"1\" class=\"dataframe\">\n  <thead>\n    <tr style=\"text-align: right;\">\n      <th></th>\n      <th>Team/NOC</th>\n      <th>Gold</th>\n      <th>Silver</th>\n      <th>Bronze</th>\n    </tr>\n  </thead>\n  <tbody>\n    <tr>\n      <th>0</th>\n      <td>United States of America</td>\n      <td>39</td>\n      <td>41</td>\n      <td>33</td>\n    </tr>\n    <tr>\n      <th>1</th>\n      <td>People's Republic of China</td>\n      <td>38</td>\n      <td>32</td>\n      <td>18</td>\n    </tr>\n    <tr>\n      <th>2</th>\n      <td>Japan</td>\n      <td>27</td>\n      <td>14</td>\n      <td>17</td>\n    </tr>\n    <tr>\n      <th>3</th>\n      <td>Great Britain</td>\n      <td>22</td>\n      <td>21</td>\n      <td>22</td>\n    </tr>\n    <tr>\n      <th>4</th>\n      <td>ROC</td>\n      <td>20</td>\n      <td>28</td>\n      <td>23</td>\n    </tr>\n    <tr>\n      <th>...</th>\n      <td>...</td>\n      <td>...</td>\n      <td>...</td>\n      <td>...</td>\n    </tr>\n    <tr>\n      <th>88</th>\n      <td>Ghana</td>\n      <td>0</td>\n      <td>0</td>\n      <td>1</td>\n    </tr>\n    <tr>\n      <th>89</th>\n      <td>Grenada</td>\n      <td>0</td>\n      <td>0</td>\n      <td>1</td>\n    </tr>\n    <tr>\n      <th>90</th>\n      <td>Kuwait</td>\n      <td>0</td>\n      <td>0</td>\n      <td>1</td>\n    </tr>\n    <tr>\n      <th>91</th>\n      <td>Republic of Moldova</td>\n      <td>0</td>\n      <td>0</td>\n      <td>1</td>\n    </tr>\n    <tr>\n      <th>92</th>\n      <td>Syrian Arab Republic</td>\n      <td>0</td>\n      <td>0</td>\n      <td>1</td>\n    </tr>\n  </tbody>\n</table>\n<p>93 rows × 4 columns</p>\n</div>"
     },
     "execution_count": 9,
     "metadata": {},
     "output_type": "execute_result"
    }
   ],
   "source": [
    "cols = ['Team/NOC', 'Gold', 'Silver', 'Bronze',]\n",
    "df[cols]"
   ],
   "metadata": {
    "collapsed": false,
    "pycharm": {
     "name": "#%%\n"
    }
   }
  },
  {
   "cell_type": "code",
   "execution_count": 12,
   "outputs": [],
   "source": [
    "medals_path = os.path.join('data_','medals')\n",
    "# os.mkdir(medals_path)"
   ],
   "metadata": {
    "collapsed": false,
    "pycharm": {
     "name": "#%%\n"
    }
   }
  },
  {
   "cell_type": "code",
   "execution_count": 14,
   "outputs": [],
   "source": [
    "if os.path.exists(medals_path):\n",
    "    pass\n",
    "else:\n",
    "    os.mkdir('data_')\n",
    "    os.mkdir(medals_path)"
   ],
   "metadata": {
    "collapsed": false,
    "pycharm": {
     "name": "#%%\n"
    }
   }
  },
  {
   "cell_type": "code",
   "execution_count": 15,
   "outputs": [],
   "source": [],
   "metadata": {
    "collapsed": false,
    "pycharm": {
     "name": "#%%\n"
    }
   }
  },
  {
   "cell_type": "code",
   "execution_count": 16,
   "outputs": [],
   "source": [
    "medals_path = os.path.join('data_','medals')\n",
    "for medal in ['Gold', 'Silver', 'Bronze',]:\n",
    "    file_path = os.path.join(medals_path, f'{medal}.xlsx')\n",
    "    df[['Team/NOC', medal]].to_excel(file_path, index=False)\n"
   ],
   "metadata": {
    "collapsed": false,
    "pycharm": {
     "name": "#%%\n"
    }
   }
  },
  {
   "cell_type": "code",
   "execution_count": 20,
   "outputs": [],
   "source": [
    "# ls data_/medals"
   ],
   "metadata": {
    "collapsed": false,
    "pycharm": {
     "name": "#%%\n"
    }
   }
  },
  {
   "cell_type": "code",
   "execution_count": 23,
   "outputs": [],
   "source": [],
   "metadata": {
    "collapsed": false,
    "pycharm": {
     "name": "#%%\n"
    }
   }
  },
  {
   "cell_type": "code",
   "execution_count": 21,
   "outputs": [
    {
     "data": {
      "text/plain": "                     Team/NOC  Gold\n0    United States of America    39\n1  People's Republic of China    38\n2                       Japan    27\n3               Great Britain    22\n4                         ROC    20",
      "text/html": "<div>\n<style scoped>\n    .dataframe tbody tr th:only-of-type {\n        vertical-align: middle;\n    }\n\n    .dataframe tbody tr th {\n        vertical-align: top;\n    }\n\n    .dataframe thead th {\n        text-align: right;\n    }\n</style>\n<table border=\"1\" class=\"dataframe\">\n  <thead>\n    <tr style=\"text-align: right;\">\n      <th></th>\n      <th>Team/NOC</th>\n      <th>Gold</th>\n    </tr>\n  </thead>\n  <tbody>\n    <tr>\n      <th>0</th>\n      <td>United States of America</td>\n      <td>39</td>\n    </tr>\n    <tr>\n      <th>1</th>\n      <td>People's Republic of China</td>\n      <td>38</td>\n    </tr>\n    <tr>\n      <th>2</th>\n      <td>Japan</td>\n      <td>27</td>\n    </tr>\n    <tr>\n      <th>3</th>\n      <td>Great Britain</td>\n      <td>22</td>\n    </tr>\n    <tr>\n      <th>4</th>\n      <td>ROC</td>\n      <td>20</td>\n    </tr>\n  </tbody>\n</table>\n</div>"
     },
     "execution_count": 21,
     "metadata": {},
     "output_type": "execute_result"
    }
   ],
   "source": [
    "# Прописываем пути к файлам\n",
    "bronze_path = os.path.join('data_','medals','Bronze.xlsx')\n",
    "silver_path = os.path.join('data_','medals','Silver.xlsx')\n",
    "gold_path = os.path.join('data_','medals','Gold.xlsx')\n",
    "# Подгружаем\n",
    "bronze = pd.read_excel(bronze_path).head(5)\n",
    "silver = pd.read_excel(silver_path).head(5)\n",
    "gold = pd.read_excel(gold_path).head(5)\n",
    "gold"
   ],
   "metadata": {
    "collapsed": false,
    "pycharm": {
     "name": "#%%\n"
    }
   }
  },
  {
   "cell_type": "code",
   "execution_count": 59,
   "outputs": [
    {
     "data": {
      "text/plain": "                     Team/NOC  Gold  Silver  Bronze\n0    United States of America    39      41      33\n1  People's Republic of China    38      32      18\n2                       Japan    27      14      17\n3               Great Britain    22      21      22\n4                         ROC    20      28      23",
      "text/html": "<div>\n<style scoped>\n    .dataframe tbody tr th:only-of-type {\n        vertical-align: middle;\n    }\n\n    .dataframe tbody tr th {\n        vertical-align: top;\n    }\n\n    .dataframe thead th {\n        text-align: right;\n    }\n</style>\n<table border=\"1\" class=\"dataframe\">\n  <thead>\n    <tr style=\"text-align: right;\">\n      <th></th>\n      <th>Team/NOC</th>\n      <th>Gold</th>\n      <th>Silver</th>\n      <th>Bronze</th>\n    </tr>\n  </thead>\n  <tbody>\n    <tr>\n      <th>0</th>\n      <td>United States of America</td>\n      <td>39</td>\n      <td>41</td>\n      <td>33</td>\n    </tr>\n    <tr>\n      <th>1</th>\n      <td>People's Republic of China</td>\n      <td>38</td>\n      <td>32</td>\n      <td>18</td>\n    </tr>\n    <tr>\n      <th>2</th>\n      <td>Japan</td>\n      <td>27</td>\n      <td>14</td>\n      <td>17</td>\n    </tr>\n    <tr>\n      <th>3</th>\n      <td>Great Britain</td>\n      <td>22</td>\n      <td>21</td>\n      <td>22</td>\n    </tr>\n    <tr>\n      <th>4</th>\n      <td>ROC</td>\n      <td>20</td>\n      <td>28</td>\n      <td>23</td>\n    </tr>\n  </tbody>\n</table>\n</div>"
     },
     "execution_count": 59,
     "metadata": {},
     "output_type": "execute_result"
    }
   ],
   "source": [
    "pd.concat([gold.set_index('Team/NOC'),silver.set_index('Team/NOC'),bronze.set_index('Team/NOC')], axis=1).reset_index()"
   ],
   "metadata": {
    "collapsed": false,
    "pycharm": {
     "name": "#%%\n"
    }
   }
  },
  {
   "cell_type": "code",
   "execution_count": 56,
   "outputs": [
    {
     "data": {
      "text/plain": "                            Gold\nTeam/NOC                        \nUnited States of America      39\nPeople's Republic of China    38\nJapan                         27\nGreat Britain                 22\nROC                           20",
      "text/html": "<div>\n<style scoped>\n    .dataframe tbody tr th:only-of-type {\n        vertical-align: middle;\n    }\n\n    .dataframe tbody tr th {\n        vertical-align: top;\n    }\n\n    .dataframe thead th {\n        text-align: right;\n    }\n</style>\n<table border=\"1\" class=\"dataframe\">\n  <thead>\n    <tr style=\"text-align: right;\">\n      <th></th>\n      <th>Gold</th>\n    </tr>\n    <tr>\n      <th>Team/NOC</th>\n      <th></th>\n    </tr>\n  </thead>\n  <tbody>\n    <tr>\n      <th>United States of America</th>\n      <td>39</td>\n    </tr>\n    <tr>\n      <th>People's Republic of China</th>\n      <td>38</td>\n    </tr>\n    <tr>\n      <th>Japan</th>\n      <td>27</td>\n    </tr>\n    <tr>\n      <th>Great Britain</th>\n      <td>22</td>\n    </tr>\n    <tr>\n      <th>ROC</th>\n      <td>20</td>\n    </tr>\n  </tbody>\n</table>\n</div>"
     },
     "execution_count": 56,
     "metadata": {},
     "output_type": "execute_result"
    }
   ],
   "source": [
    "gold.set_index('Team/NOC')"
   ],
   "metadata": {
    "collapsed": false,
    "pycharm": {
     "name": "#%%\n"
    }
   }
  },
  {
   "cell_type": "code",
   "execution_count": 24,
   "outputs": [
    {
     "data": {
      "text/plain": "                     Team/NOC  Silver\n0    United States of America      41\n1  People's Republic of China      32\n2                       Japan      14\n3               Great Britain      21\n4                         ROC      28",
      "text/html": "<div>\n<style scoped>\n    .dataframe tbody tr th:only-of-type {\n        vertical-align: middle;\n    }\n\n    .dataframe tbody tr th {\n        vertical-align: top;\n    }\n\n    .dataframe thead th {\n        text-align: right;\n    }\n</style>\n<table border=\"1\" class=\"dataframe\">\n  <thead>\n    <tr style=\"text-align: right;\">\n      <th></th>\n      <th>Team/NOC</th>\n      <th>Silver</th>\n    </tr>\n  </thead>\n  <tbody>\n    <tr>\n      <th>0</th>\n      <td>United States of America</td>\n      <td>41</td>\n    </tr>\n    <tr>\n      <th>1</th>\n      <td>People's Republic of China</td>\n      <td>32</td>\n    </tr>\n    <tr>\n      <th>2</th>\n      <td>Japan</td>\n      <td>14</td>\n    </tr>\n    <tr>\n      <th>3</th>\n      <td>Great Britain</td>\n      <td>21</td>\n    </tr>\n    <tr>\n      <th>4</th>\n      <td>ROC</td>\n      <td>28</td>\n    </tr>\n  </tbody>\n</table>\n</div>"
     },
     "execution_count": 24,
     "metadata": {},
     "output_type": "execute_result"
    }
   ],
   "source": [
    "silver.set_index('Team/NOC')"
   ],
   "metadata": {
    "collapsed": false,
    "pycharm": {
     "name": "#%%\n"
    }
   }
  },
  {
   "cell_type": "code",
   "execution_count": 25,
   "outputs": [
    {
     "data": {
      "text/plain": "                     Team/NOC  Bronze\n0    United States of America      33\n1  People's Republic of China      18\n2                       Japan      17\n3               Great Britain      22\n4                         ROC      23",
      "text/html": "<div>\n<style scoped>\n    .dataframe tbody tr th:only-of-type {\n        vertical-align: middle;\n    }\n\n    .dataframe tbody tr th {\n        vertical-align: top;\n    }\n\n    .dataframe thead th {\n        text-align: right;\n    }\n</style>\n<table border=\"1\" class=\"dataframe\">\n  <thead>\n    <tr style=\"text-align: right;\">\n      <th></th>\n      <th>Team/NOC</th>\n      <th>Bronze</th>\n    </tr>\n  </thead>\n  <tbody>\n    <tr>\n      <th>0</th>\n      <td>United States of America</td>\n      <td>33</td>\n    </tr>\n    <tr>\n      <th>1</th>\n      <td>People's Republic of China</td>\n      <td>18</td>\n    </tr>\n    <tr>\n      <th>2</th>\n      <td>Japan</td>\n      <td>17</td>\n    </tr>\n    <tr>\n      <th>3</th>\n      <td>Great Britain</td>\n      <td>22</td>\n    </tr>\n    <tr>\n      <th>4</th>\n      <td>ROC</td>\n      <td>23</td>\n    </tr>\n  </tbody>\n</table>\n</div>"
     },
     "execution_count": 25,
     "metadata": {},
     "output_type": "execute_result"
    }
   ],
   "source": [
    "bronze"
   ],
   "metadata": {
    "collapsed": false,
    "pycharm": {
     "name": "#%%\n"
    }
   }
  },
  {
   "cell_type": "code",
   "execution_count": 26,
   "outputs": [],
   "source": [
    "medals = gold.copy()"
   ],
   "metadata": {
    "collapsed": false,
    "pycharm": {
     "name": "#%%\n"
    }
   }
  },
  {
   "cell_type": "code",
   "execution_count": 27,
   "outputs": [
    {
     "data": {
      "text/plain": "                     Team/NOC  Gold\n0    United States of America    39\n1  People's Republic of China    38\n2                       Japan    27\n3               Great Britain    22\n4                         ROC    20",
      "text/html": "<div>\n<style scoped>\n    .dataframe tbody tr th:only-of-type {\n        vertical-align: middle;\n    }\n\n    .dataframe tbody tr th {\n        vertical-align: top;\n    }\n\n    .dataframe thead th {\n        text-align: right;\n    }\n</style>\n<table border=\"1\" class=\"dataframe\">\n  <thead>\n    <tr style=\"text-align: right;\">\n      <th></th>\n      <th>Team/NOC</th>\n      <th>Gold</th>\n    </tr>\n  </thead>\n  <tbody>\n    <tr>\n      <th>0</th>\n      <td>United States of America</td>\n      <td>39</td>\n    </tr>\n    <tr>\n      <th>1</th>\n      <td>People's Republic of China</td>\n      <td>38</td>\n    </tr>\n    <tr>\n      <th>2</th>\n      <td>Japan</td>\n      <td>27</td>\n    </tr>\n    <tr>\n      <th>3</th>\n      <td>Great Britain</td>\n      <td>22</td>\n    </tr>\n    <tr>\n      <th>4</th>\n      <td>ROC</td>\n      <td>20</td>\n    </tr>\n  </tbody>\n</table>\n</div>"
     },
     "execution_count": 27,
     "metadata": {},
     "output_type": "execute_result"
    }
   ],
   "source": [
    "medals"
   ],
   "metadata": {
    "collapsed": false,
    "pycharm": {
     "name": "#%%\n"
    }
   }
  },
  {
   "cell_type": "code",
   "execution_count": 27,
   "outputs": [],
   "source": [],
   "metadata": {
    "collapsed": false,
    "pycharm": {
     "name": "#%%\n"
    }
   }
  },
  {
   "cell_type": "code",
   "execution_count": null,
   "outputs": [],
   "source": [
    "medals.head()"
   ],
   "metadata": {
    "collapsed": false,
    "pycharm": {
     "name": "#%%\n"
    }
   }
  },
  {
   "cell_type": "code",
   "execution_count": null,
   "outputs": [],
   "source": [],
   "metadata": {
    "collapsed": false,
    "pycharm": {
     "name": "#%%\n"
    }
   }
  },
  {
   "cell_type": "code",
   "execution_count": null,
   "outputs": [],
   "source": [],
   "metadata": {
    "collapsed": false,
    "pycharm": {
     "name": "#%%\n"
    }
   }
  },
  {
   "cell_type": "code",
   "execution_count": 28,
   "outputs": [],
   "source": [
    "# Когда мы хотим слить несколько табиц с одинаковыми колонками в одну большую (по вертикали)\n",
    "medals_dict = {'gold': gold_path, 'silver': silver_path,'bronze':bronze_path}"
   ],
   "metadata": {
    "collapsed": false,
    "pycharm": {
     "name": "#%%\n"
    }
   }
  },
  {
   "cell_type": "code",
   "execution_count": 29,
   "outputs": [
    {
     "data": {
      "text/plain": "{'gold': 'data_/medals/Gold.xlsx',\n 'silver': 'data_/medals/Silver.xlsx',\n 'bronze': 'data_/medals/Bronze.xlsx'}"
     },
     "execution_count": 29,
     "metadata": {},
     "output_type": "execute_result"
    }
   ],
   "source": [
    "medals_dict"
   ],
   "metadata": {
    "collapsed": false,
    "pycharm": {
     "name": "#%%\n"
    }
   }
  },
  {
   "cell_type": "code",
   "execution_count": 51,
   "outputs": [],
   "source": [
    "# Можно использовать метод df.append()\n",
    "# !!! Важно, что он работает не так как append в списках, то есть не inplace\n",
    "medals_df = pd.DataFrame()"
   ],
   "metadata": {
    "collapsed": false,
    "pycharm": {
     "name": "#%%\n"
    }
   }
  },
  {
   "cell_type": "code",
   "execution_count": 51,
   "outputs": [],
   "source": [],
   "metadata": {
    "collapsed": false,
    "pycharm": {
     "name": "#%%\n"
    }
   }
  },
  {
   "cell_type": "code",
   "execution_count": 52,
   "outputs": [],
   "source": [
    "for medal, fpth in medals_dict.items():\n",
    "    df_temp = pd.read_excel(fpth)\n",
    "    cols = df_temp.columns\n",
    "    df_temp.columns = [cols[0], 'Total']\n",
    "    df_temp['medal'] = medal\n",
    "    medals_df = medals_df.append(df_temp)"
   ],
   "metadata": {
    "collapsed": false,
    "pycharm": {
     "name": "#%%\n"
    }
   }
  },
  {
   "cell_type": "code",
   "execution_count": null,
   "outputs": [],
   "source": [],
   "metadata": {
    "collapsed": false,
    "pycharm": {
     "name": "#%%\n"
    }
   }
  },
  {
   "cell_type": "code",
   "execution_count": 53,
   "outputs": [
    {
     "data": {
      "text/plain": "                      Team/NOC  Total   medal\n0     United States of America     39    gold\n1   People's Republic of China     38    gold\n2                        Japan     27    gold\n3                Great Britain     22    gold\n4                          ROC     20    gold\n..                         ...    ...     ...\n88                       Ghana      1  bronze\n89                     Grenada      1  bronze\n90                      Kuwait      1  bronze\n91         Republic of Moldova      1  bronze\n92        Syrian Arab Republic      1  bronze\n\n[279 rows x 3 columns]",
      "text/html": "<div>\n<style scoped>\n    .dataframe tbody tr th:only-of-type {\n        vertical-align: middle;\n    }\n\n    .dataframe tbody tr th {\n        vertical-align: top;\n    }\n\n    .dataframe thead th {\n        text-align: right;\n    }\n</style>\n<table border=\"1\" class=\"dataframe\">\n  <thead>\n    <tr style=\"text-align: right;\">\n      <th></th>\n      <th>Team/NOC</th>\n      <th>Total</th>\n      <th>medal</th>\n    </tr>\n  </thead>\n  <tbody>\n    <tr>\n      <th>0</th>\n      <td>United States of America</td>\n      <td>39</td>\n      <td>gold</td>\n    </tr>\n    <tr>\n      <th>1</th>\n      <td>People's Republic of China</td>\n      <td>38</td>\n      <td>gold</td>\n    </tr>\n    <tr>\n      <th>2</th>\n      <td>Japan</td>\n      <td>27</td>\n      <td>gold</td>\n    </tr>\n    <tr>\n      <th>3</th>\n      <td>Great Britain</td>\n      <td>22</td>\n      <td>gold</td>\n    </tr>\n    <tr>\n      <th>4</th>\n      <td>ROC</td>\n      <td>20</td>\n      <td>gold</td>\n    </tr>\n    <tr>\n      <th>...</th>\n      <td>...</td>\n      <td>...</td>\n      <td>...</td>\n    </tr>\n    <tr>\n      <th>88</th>\n      <td>Ghana</td>\n      <td>1</td>\n      <td>bronze</td>\n    </tr>\n    <tr>\n      <th>89</th>\n      <td>Grenada</td>\n      <td>1</td>\n      <td>bronze</td>\n    </tr>\n    <tr>\n      <th>90</th>\n      <td>Kuwait</td>\n      <td>1</td>\n      <td>bronze</td>\n    </tr>\n    <tr>\n      <th>91</th>\n      <td>Republic of Moldova</td>\n      <td>1</td>\n      <td>bronze</td>\n    </tr>\n    <tr>\n      <th>92</th>\n      <td>Syrian Arab Republic</td>\n      <td>1</td>\n      <td>bronze</td>\n    </tr>\n  </tbody>\n</table>\n<p>279 rows × 3 columns</p>\n</div>"
     },
     "execution_count": 53,
     "metadata": {},
     "output_type": "execute_result"
    }
   ],
   "source": [
    "medals_df"
   ],
   "metadata": {
    "collapsed": false,
    "pycharm": {
     "name": "#%%\n"
    }
   }
  },
  {
   "cell_type": "markdown",
   "source": [
    "# Практическая часть"
   ],
   "metadata": {
    "collapsed": false
   }
  },
  {
   "cell_type": "code",
   "execution_count": null,
   "outputs": [],
   "source": [
    "# Даны 3 таблицы\n",
    "medalists = pd.read_csv('data/Summer Olympic medalists 1896 to 2008 - ALL MEDALISTS.tsv',\n",
    "                        sep='\\t', skiprows=4)\n",
    "editions = pd.read_csv('data/Summer Olympic medalists 1896 to 2008 - EDITIONS.tsv', sep='\\t')\n",
    "countries = pd.read_csv('data/Summer Olympic medalists 1896 to 2008 - IOC COUNTRY CODES.csv')"
   ],
   "metadata": {
    "collapsed": false,
    "pycharm": {
     "name": "#%%\n"
    }
   }
  },
  {
   "cell_type": "code",
   "execution_count": null,
   "outputs": [],
   "source": [
    "# countries.head(3)\n",
    "# editions.head(3)\n",
    "# medalists.head(3)"
   ],
   "metadata": {
    "collapsed": false,
    "pycharm": {
     "name": "#%%\n"
    }
   }
  },
  {
   "cell_type": "code",
   "execution_count": null,
   "outputs": [],
   "source": [
    "# Определите гендерное распределение (в процентах) медалистов по странам по годам \n",
    "# Выведите результаты в виде таблицы вместе с полем ISO code\n",
    "#----- Ваш код здесь ----"
   ],
   "metadata": {
    "collapsed": false,
    "pycharm": {
     "name": "#%%\n"
    }
   }
  },
  {
   "cell_type": "markdown",
   "source": [
    "# Немного про Pandas & Excel"
   ],
   "metadata": {
    "collapsed": false
   }
  },
  {
   "cell_type": "code",
   "execution_count": null,
   "outputs": [],
   "source": [
    "# Сохраним medals_df в файл excel\n",
    "medals_df.to_excel('medals.xlsx', index=False)"
   ],
   "metadata": {
    "collapsed": false,
    "pycharm": {
     "name": "#%%\n"
    }
   }
  },
  {
   "cell_type": "code",
   "execution_count": null,
   "outputs": [],
   "source": [
    "# Если в excel - файле только один лист, или нужен только первый\n",
    "df = pd.read_excel('medals.xlsx')\n",
    "df.head()"
   ],
   "metadata": {
    "collapsed": false,
    "pycharm": {
     "name": "#%%\n"
    }
   }
  },
  {
   "cell_type": "code",
   "execution_count": null,
   "outputs": [],
   "source": [
    "# Если нужно считать несколько листов из файла, то \n",
    "# можно использовать pd.read_excel c параметром sheet_name \n",
    "xls = pd.ExcelFile('medals.xlsx')\n",
    "xls.sheet_names"
   ],
   "metadata": {
    "collapsed": false,
    "pycharm": {
     "name": "#%%\n"
    }
   }
  },
  {
   "cell_type": "code",
   "execution_count": null,
   "outputs": [],
   "source": [],
   "metadata": {
    "collapsed": false,
    "pycharm": {
     "name": "#%%\n"
    }
   }
  },
  {
   "cell_type": "code",
   "execution_count": null,
   "outputs": [],
   "source": [
    "medals_from_excel = pd.DataFrame()\n",
    "for sheet_name in xls.sheet_names:\n",
    "    temp_df = pd.read_excel('medals.xlsx', sheet_name=sheet_name)\n",
    "    medals_from_excel= medals_from_excel.append(temp_df)\n",
    "\n",
    "# medals_from_excel"
   ],
   "metadata": {
    "collapsed": false,
    "pycharm": {
     "name": "#%%\n"
    }
   }
  },
  {
   "cell_type": "markdown",
   "source": [
    "### Как сохранить DataFrame в ексель на разных листах?\n"
   ],
   "metadata": {
    "collapsed": false
   }
  },
  {
   "cell_type": "code",
   "execution_count": null,
   "outputs": [],
   "source": [
    "# Создаем файл\n",
    "writer = pd.ExcelWriter('medal_on_sheets.xlsx', engine='xlsxwriter')\n",
    "# Записываем на листы\n",
    "gold.to_excel(writer, sheet_name='gold', index=False)\n",
    "silver.to_excel(writer, sheet_name='silver', index=False)\n",
    "bronze.to_excel(writer, sheet_name='bronze', index=False)\n",
    "# Сохраняем и закрвыаем \n",
    "writer.save()"
   ],
   "metadata": {
    "collapsed": false,
    "pycharm": {
     "name": "#%%\n"
    }
   }
  },
  {
   "cell_type": "code",
   "execution_count": null,
   "outputs": [],
   "source": [
    "# Или так c помощью менеджера контекста with\n",
    "with pd.ExcelWriter('medal_on_sheets.xlsx', engine='xlsxwriter') as writer:\n",
    "    for i, tab in enumerate([gold,silver,bronze]):\n",
    "        tab.to_excel(writer, sheet_name=str(i), index=False)\n"
   ],
   "metadata": {
    "collapsed": false,
    "pycharm": {
     "name": "#%%\n"
    }
   }
  },
  {
   "cell_type": "markdown",
   "source": [
    "# Практическая часть "
   ],
   "metadata": {
    "collapsed": false
   }
  },
  {
   "cell_type": "code",
   "execution_count": null,
   "outputs": [],
   "source": [
    "# Сохраните DataFrame medalists в файл medalists.xlsx\n",
    "# В этом файле данные по каждой строне должны быть на отдельном листе\n",
    "#----- Ваш код здесь ----"
   ],
   "metadata": {
    "collapsed": false,
    "pycharm": {
     "name": "#%%\n"
    }
   }
  },
  {
   "cell_type": "code",
   "execution_count": null,
   "outputs": [],
   "source": [],
   "metadata": {
    "collapsed": false,
    "pycharm": {
     "name": "#%%\n"
    }
   }
  }
 ],
 "metadata": {
  "kernelspec": {
   "display_name": "Python 3",
   "language": "python",
   "name": "python3"
  },
  "language_info": {
   "codemirror_mode": {
    "name": "ipython",
    "version": 3
   },
   "file_extension": ".py",
   "mimetype": "text/x-python",
   "name": "python",
   "nbconvert_exporter": "python",
   "pygments_lexer": "ipython3",
   "version": "3.8.5"
  }
 },
 "nbformat": 4,
 "nbformat_minor": 2
}
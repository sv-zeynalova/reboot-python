{
 "cells": [
  {
   "cell_type": "markdown",
   "metadata": {},
   "source": [
    "# Модули и пакеты\n",
    "* Создание собственного модуля\n",
    "* Создание пакета\n",
    "* Подсистема pip\n",
    "* Краткий обзор стандартной библиотеки\n",
    "* Установка стороннего модуля"
   ]
  },
  {
   "cell_type": "markdown",
   "metadata": {},
   "source": [
    "# Скрипт или модуль ?"
   ]
  },
  {
   "cell_type": "markdown",
   "metadata": {},
   "source": [
    "* Скрипт - это файл с программой, который запускается автономно\n",
    "* Модуль - это файл, который подгружается, чтобы расширить функциональные возмжоности скрипта(программы)"
   ]
  },
  {
   "cell_type": "code",
   "execution_count": 3,
   "metadata": {},
   "outputs": [
    {
     "name": "stdout",
     "output_type": "stream",
     "text": [
      "Writing myscript.py\n"
     ]
    }
   ],
   "source": [
    "%%writefile myscript.py\n",
    "def print_hello():\n",
    "    print('hello')\n"
   ]
  },
  {
   "cell_type": "code",
   "execution_count": 4,
   "metadata": {},
   "outputs": [],
   "source": [
    "import myscript"
   ]
  },
  {
   "cell_type": "code",
   "execution_count": 2,
   "metadata": {},
   "outputs": [
    {
     "name": "stdout",
     "output_type": "stream",
     "text": [
      "hello\n"
     ]
    }
   ],
   "source": [
    "my_script3.print_hello()"
   ]
  },
  {
   "cell_type": "code",
   "execution_count": null,
   "metadata": {},
   "outputs": [],
   "source": []
  },
  {
   "cell_type": "code",
   "execution_count": 5,
   "metadata": {},
   "outputs": [
    {
     "name": "stdout",
     "output_type": "stream",
     "text": [
      "Lesson_4.ipynb \u001b[34mimg\u001b[m\u001b[m            my_script.py   my_script3.py  somescript.py\r\n",
      "\u001b[34m__pycache__\u001b[m\u001b[m    my_module.py   my_script2.py  price.html\r\n"
     ]
    }
   ],
   "source": [
    "!ls my_script3.py"
   ]
  },
  {
   "cell_type": "code",
   "execution_count": null,
   "metadata": {},
   "outputs": [],
   "source": [
    "my_script3.py"
   ]
  },
  {
   "cell_type": "markdown",
   "metadata": {},
   "source": [
    "# Модуль или пакет?"
   ]
  },
  {
   "cell_type": "markdown",
   "metadata": {},
   "source": [
    "* модуль - это файл с набором функций\n",
    "* пакет - это каталог с одним и более модулями"
   ]
  },
  {
   "cell_type": "code",
   "execution_count": 3,
   "metadata": {},
   "outputs": [],
   "source": [
    "# Пакеты и модули подгружаются командой import\n",
    "# Это можно сделать только 1 раз\n",
    "import pandas"
   ]
  },
  {
   "cell_type": "code",
   "execution_count": 4,
   "metadata": {},
   "outputs": [],
   "source": [
    "# Подгружаемый модуль можно назвать так чтобы было удобно кодить\n",
    "import pandas as pd"
   ]
  },
  {
   "cell_type": "code",
   "execution_count": 5,
   "metadata": {},
   "outputs": [],
   "source": [
    "# Отдельные объекты из пакета можно выгрузить с помощью from ... import ...\n",
    "from datetime import datetime as dt"
   ]
  },
  {
   "cell_type": "code",
   "execution_count": 6,
   "metadata": {},
   "outputs": [],
   "source": [
    "from my_script3 import print_hello"
   ]
  },
  {
   "cell_type": "code",
   "execution_count": 7,
   "metadata": {},
   "outputs": [
    {
     "name": "stdout",
     "output_type": "stream",
     "text": [
      "hello\n"
     ]
    }
   ],
   "source": [
    "print_hello()"
   ]
  },
  {
   "cell_type": "code",
   "execution_count": 26,
   "metadata": {},
   "outputs": [],
   "source": [
    "# Из своего модуля можно также выгрузить нужный объект\n",
    "from my_module import print_boo"
   ]
  },
  {
   "cell_type": "code",
   "execution_count": 1,
   "metadata": {},
   "outputs": [],
   "source": [
    "# Когда мы хотим выгрузить из модуля все, то используем *\n",
    "# Важно! это противоречит дзену питона \n",
    "from my_module import *"
   ]
  },
  {
   "cell_type": "code",
   "execution_count": null,
   "metadata": {},
   "outputs": [],
   "source": [
    "# В пакете могут быть еще пакеты, например:\n",
    "from sklearn.metrics.pairwise import cosine_similarity"
   ]
  },
  {
   "cell_type": "markdown",
   "metadata": {},
   "source": [
    "\n",
    "<a href=https://scikit-learn.org/stable/modules/classes.html#module-sklearn.base>Подробнее о scikit-learn</a>"
   ]
  },
  {
   "cell_type": "markdown",
   "metadata": {},
   "source": [
    "# Поиск модулей "
   ]
  },
  {
   "cell_type": "markdown",
   "metadata": {},
   "source": [
    "* домашняя директория\n",
    "* директории, указанные в переменной окружения PYTHONPATH\n",
    "* директории Standard library\n",
    "* пути прописанные в .pth файлах\n",
    "* пакеты сторонних разработчиков"
   ]
  },
  {
   "cell_type": "code",
   "execution_count": 4,
   "metadata": {},
   "outputs": [
    {
     "data": {
      "text/plain": [
       "['/Users/lev4/Projects/pycourse/L4',\n",
       " '/Users/lev4/Applications/anaconda/anaconda3/lib/python37.zip',\n",
       " '/Users/lev4/Applications/anaconda/anaconda3/lib/python3.7',\n",
       " '/Users/lev4/Applications/anaconda/anaconda3/lib/python3.7/lib-dynload',\n",
       " '',\n",
       " '/Users/lev4/Applications/anaconda/anaconda3/lib/python3.7/site-packages',\n",
       " '/Users/lev4/Applications/anaconda/anaconda3/lib/python3.7/site-packages/aeosa',\n",
       " '/Users/lev4/Applications/anaconda/anaconda3/lib/python3.7/site-packages/IPython/extensions',\n",
       " '/Users/lev4/.ipython']"
      ]
     },
     "execution_count": 4,
     "metadata": {},
     "output_type": "execute_result"
    }
   ],
   "source": [
    "import sys\n",
    "sys.path"
   ]
  },
  {
   "cell_type": "markdown",
   "metadata": {},
   "source": [
    "# Краткий обзор стандартной библиотеки"
   ]
  },
  {
   "cell_type": "markdown",
   "metadata": {},
   "source": [
    "<a href=https://docs.python.org/3/library/index.html>Подробнее о Стандартной библиотеке</a>"
   ]
  },
  {
   "cell_type": "code",
   "execution_count": null,
   "metadata": {},
   "outputs": [],
   "source": [
    "# pip install .  \n",
    "# из директории в которой находится setup.py\n"
   ]
  },
  {
   "cell_type": "markdown",
   "metadata": {},
   "source": [
    "# Что такое pip?"
   ]
  },
  {
   "cell_type": "markdown",
   "metadata": {},
   "source": [
    "* python install package"
   ]
  },
  {
   "cell_type": "markdown",
   "metadata": {},
   "source": [
    "Большинство пакетов устанавливается с помощью команды pip install из консоли <br>\n",
    " pip install названиебиблиотеки\n"
   ]
  },
  {
   "cell_type": "markdown",
   "metadata": {},
   "source": [
    "* Чтобы установить свой пакет нужно в папке с модулями создать пустой файл __init__.py\n",
    "* в директории, где находится каталог пакета создать файл setup.py\n",
    "* установить свой пакет можно с помощью команды pip install .\n",
    "* пример setup.py\n",
    "<hr>"
   ]
  },
  {
   "cell_type": "markdown",
   "metadata": {},
   "source": [
    "from setuptools import setup <br>\n",
    "<br>\n",
    "setup(name='yourpkgname',  <br> \n",
    "    version='0.0.1',<br>\n",
    "    description='This package make people more happy', <br>\n",
    "    author_email = 'donald_trump@mail.ru', <br>\n",
    "    packages=['black'], <br>\n",
    "    install_requires = ['pandas'])<br>\n",
    "<hr>"
   ]
  },
  {
   "cell_type": "markdown",
   "metadata": {},
   "source": [
    "* name - это название модуля\n",
    "* version - версия \n",
    "* description - описание\n",
    "* author_email - почта автора\n",
    "* packages - каталоги входящие в пакет\n",
    "* install_requires - другие пакеты, которые нужны для работы этого пакета"
   ]
  },
  {
   "cell_type": "markdown",
   "metadata": {},
   "source": [
    "Или еще более минималистичный <a href='https://stackoverflow.com/questions/4740473/setup-py-examples'> вариант </a>\n",
    "<hr>\n",
    "from setuptools import setup, find_packages<br>\n",
    "setup(name='foo',<br>\n",
    "      version='1.0',<br>\n",
    "      packages=find_packages(),<br>\n",
    "      )<br>"
   ]
  },
  {
   "cell_type": "markdown",
   "metadata": {},
   "source": [
    "# Как установить библиотеки для Python в Сбере?"
   ]
  },
  {
   "cell_type": "markdown",
   "metadata": {},
   "source": [
    "#### Pip Magic words Sigma\n",
    "<hr>\n",
    "pip install --trusted-host pypi.org --trusted-host files.pythonhosted.org имябиблиотеки\n",
    "<hr>\n",
    "\n",
    "####  Pip Magic Alpha\n",
    "\n",
    "\n",
    "1. Создать папку  pip в скрытом каталоге\n",
    "\n",
    "C:\\пользователи\\User\\AppData\\Roaming\n",
    "\n",
    "2. В папке создать файл pip.ini  в котором прописать\n",
    "\n",
    "[global]<br>\n",
    "default-timeout = 60 <br>\n",
    "trusted-host = mirror.ca.sbrf.ru<br>\n",
    "index-url = http://mirror.ca.sbrf.ru/pypi/simple<br>\n",
    "download-cache = /tmp <br>"
   ]
  },
  {
   "cell_type": "markdown",
   "metadata": {},
   "source": [
    "# Практическая часть"
   ]
  },
  {
   "cell_type": "code",
   "execution_count": 55,
   "metadata": {},
   "outputs": [],
   "source": [
    "# Написать скрипт, который принимает в качестве аргументов длину и ширину\n",
    "# Рассчитвает площадь и выдает значение площади\n"
   ]
  },
  {
   "cell_type": "code",
   "execution_count": 5,
   "metadata": {},
   "outputs": [],
   "source": [
    "def area_calc(a,b):\n",
    "    area = a * b\n",
    "    return area"
   ]
  },
  {
   "cell_type": "code",
   "execution_count": null,
   "metadata": {},
   "outputs": [],
   "source": []
  },
  {
   "cell_type": "code",
   "execution_count": null,
   "metadata": {},
   "outputs": [],
   "source": []
  },
  {
   "cell_type": "code",
   "execution_count": null,
   "metadata": {
    "scrolled": true
   },
   "outputs": [],
   "source": []
  },
  {
   "cell_type": "code",
   "execution_count": null,
   "metadata": {},
   "outputs": [],
   "source": [
    "# Написать модуль, который можно будет подгрузить в ноутбук для расчета площади"
   ]
  },
  {
   "cell_type": "code",
   "execution_count": 39,
   "metadata": {},
   "outputs": [],
   "source": [
    "# Создать пакет из которого можно будет подгрузить данный модуль"
   ]
  }
 ],
 "metadata": {
  "kernelspec": {
   "display_name": "Python 3",
   "language": "python",
   "name": "python3"
  },
  "language_info": {
   "codemirror_mode": {
    "name": "ipython",
    "version": 3
   },
   "file_extension": ".py",
   "mimetype": "text/x-python",
   "name": "python",
   "nbconvert_exporter": "python",
   "pygments_lexer": "ipython3",
   "version": "3.8.5"
  }
 },
 "nbformat": 4,
 "nbformat_minor": 2
}

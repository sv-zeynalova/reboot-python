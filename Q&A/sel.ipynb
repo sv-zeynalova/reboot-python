{
 "cells": [
  {
   "cell_type": "code",
   "execution_count": 2,
   "metadata": {
    "collapsed": true
   },
   "outputs": [],
   "source": [
    "from selenium import webdriver\n",
    "from selenium.webdriver.common.keys import Keys\n",
    "from selenium.common.exceptions import NoSuchElementException\n",
    "import time"
   ]
  },
  {
   "cell_type": "code",
   "execution_count": 8,
   "outputs": [],
   "source": [
    "from selenium import webdriver\n",
    "from webdriver_manager.chrome import ChromeDriverManager"
   ],
   "metadata": {
    "collapsed": false,
    "pycharm": {
     "name": "#%%\n"
    }
   }
  },
  {
   "cell_type": "code",
   "execution_count": 7,
   "outputs": [
    {
     "name": "stdout",
     "output_type": "stream",
     "text": [
      "Collecting webdriver-manager\r\n",
      "  Downloading webdriver_manager-3.5.2-py2.py3-none-any.whl (17 kB)\r\n",
      "Collecting crayons\r\n",
      "  Downloading crayons-0.4.0-py2.py3-none-any.whl (4.6 kB)\r\n",
      "Collecting configparser\r\n",
      "  Downloading configparser-5.1.0-py3-none-any.whl (19 kB)\r\n",
      "Requirement already satisfied: requests in /Users/lev4/opt/anaconda3/envs/test/lib/python3.9/site-packages (from webdriver-manager) (2.26.0)\r\n",
      "Collecting colorama\r\n",
      "  Using cached colorama-0.4.4-py2.py3-none-any.whl (16 kB)\r\n",
      "Requirement already satisfied: charset-normalizer~=2.0.0 in /Users/lev4/opt/anaconda3/envs/test/lib/python3.9/site-packages (from requests->webdriver-manager) (2.0.6)\r\n",
      "Requirement already satisfied: urllib3<1.27,>=1.21.1 in /Users/lev4/opt/anaconda3/envs/test/lib/python3.9/site-packages (from requests->webdriver-manager) (1.26.7)\r\n",
      "Requirement already satisfied: certifi>=2017.4.17 in /Users/lev4/opt/anaconda3/envs/test/lib/python3.9/site-packages (from requests->webdriver-manager) (2021.10.8)\r\n",
      "Requirement already satisfied: idna<4,>=2.5 in /Users/lev4/opt/anaconda3/envs/test/lib/python3.9/site-packages (from requests->webdriver-manager) (3.2)\r\n",
      "Installing collected packages: colorama, crayons, configparser, webdriver-manager\r\n",
      "Successfully installed colorama-0.4.4 configparser-5.1.0 crayons-0.4.0 webdriver-manager-3.5.2\r\n",
      "Note: you may need to restart the kernel to use updated packages.\n"
     ]
    }
   ],
   "source": [
    "# pip install webdriver-manager"
   ],
   "metadata": {
    "collapsed": false,
    "pycharm": {
     "name": "#%%\n"
    }
   }
  },
  {
   "cell_type": "markdown",
   "source": [],
   "metadata": {
    "collapsed": false
   }
  },
  {
   "cell_type": "code",
   "execution_count": 12,
   "outputs": [
    {
     "name": "stderr",
     "output_type": "stream",
     "text": [
      "\n",
      "\n",
      "====== WebDriver manager ======\n",
      "Current google-chrome version is 95.0.4638\n",
      "Get LATEST chromedriver version for 95.0.4638 google-chrome\n",
      "Driver [/Users/lev4/.wdm/drivers/chromedriver/mac64/95.0.4638.54/chromedriver] found in cache\n"
     ]
    }
   ],
   "source": [
    "driver = webdriver.Chrome(ChromeDriverManager().install())"
   ],
   "metadata": {
    "collapsed": false,
    "pycharm": {
     "name": "#%%\n"
    }
   }
  },
  {
   "cell_type": "code",
   "execution_count": 3,
   "outputs": [],
   "source": [
    "# ACCOUNT_EMAIL = YOUR LOGIN EMAIL\n",
    "# ACCOUNT_PASSWORD = YOUR LOGIN PASSWORD\n",
    "# PHONE = YOUR PHONE NUMBER"
   ],
   "metadata": {
    "collapsed": false,
    "pycharm": {
     "name": "#%%\n"
    }
   }
  },
  {
   "cell_type": "code",
   "execution_count": 10,
   "outputs": [],
   "source": [
    "# chrome_driver_path = 'chromedriver'\n",
    "# driver = webdriver.Chrome(chrome_driver_path)"
   ],
   "metadata": {
    "collapsed": false,
    "pycharm": {
     "name": "#%%\n"
    }
   }
  },
  {
   "cell_type": "code",
   "execution_count": 13,
   "outputs": [],
   "source": [
    "url = 'https://tinder.com/'\n",
    "driver.get(url)"
   ],
   "metadata": {
    "collapsed": false,
    "pycharm": {
     "name": "#%%\n"
    }
   }
  },
  {
   "cell_type": "code",
   "execution_count": 22,
   "outputs": [],
   "source": [
    "like_button = driver.find_element_by_xpath(\n",
    "    # '//*[@id=\"q-274726726\"]/div/div[1]/div/div/main/div/div[1]/div[1]/div/div[4]/div/div[4]/button')\n",
    "    # '//*[@id=\"q-274726726\"]/div/div[1]/div/div/main/div/div[1]/div[1]/div/div[5]/div/div[4]/button'\n",
    "'//*[@id=\"q-274726726\"]/div/div[1]/div/div/main/div/div[1]/div[1]/div/div[5]/div/div[4]/button')\n",
    "like_button.click()"
   ],
   "metadata": {
    "collapsed": false,
    "pycharm": {
     "name": "#%%\n"
    }
   }
  },
  {
   "cell_type": "markdown",
   "source": [],
   "metadata": {
    "collapsed": false
   }
  },
  {
   "cell_type": "code",
   "execution_count": null,
   "outputs": [],
   "source": [],
   "metadata": {
    "collapsed": false,
    "pycharm": {
     "name": "#%%\n"
    }
   }
  },
  {
   "cell_type": "code",
   "execution_count": null,
   "outputs": [],
   "source": [],
   "metadata": {
    "collapsed": false,
    "pycharm": {
     "name": "#%%\n"
    }
   }
  }
 ],
 "metadata": {
  "kernelspec": {
   "display_name": "Python 3",
   "language": "python",
   "name": "python3"
  },
  "language_info": {
   "codemirror_mode": {
    "name": "ipython",
    "version": 2
   },
   "file_extension": ".py",
   "mimetype": "text/x-python",
   "name": "python",
   "nbconvert_exporter": "python",
   "pygments_lexer": "ipython2",
   "version": "2.7.6"
  }
 },
 "nbformat": 4,
 "nbformat_minor": 0
}
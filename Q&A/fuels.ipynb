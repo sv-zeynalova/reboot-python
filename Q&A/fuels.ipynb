{
 "cells": [
  {
   "cell_type": "code",
   "execution_count": 1,
   "metadata": {
    "collapsed": true
   },
   "outputs": [],
   "source": [
    "import pandas as pd\n",
    "import requests\n",
    "from tqdm.auto import tqdm\n",
    "from collections import defaultdict"
   ]
  },
  {
   "cell_type": "code",
   "execution_count": 49,
   "outputs": [],
   "source": [
    "headers = {'X-Requested-With': 'XMLHttpRequest'}\n",
    "payload = ({'region':'77'})\n",
    "url = 'http://www.rosneft-azs.ru/map_search'\n",
    "r = requests.post(url, data=payload, headers=headers)"
   ],
   "metadata": {
    "collapsed": false,
    "pycharm": {
     "name": "#%%\n"
    }
   }
  },
  {
   "cell_type": "code",
   "execution_count": 49,
   "outputs": [],
   "source": [],
   "metadata": {
    "collapsed": false,
    "pycharm": {
     "name": "#%%\n"
    }
   }
  },
  {
   "cell_type": "code",
   "execution_count": 49,
   "outputs": [],
   "source": [],
   "metadata": {
    "collapsed": false,
    "pycharm": {
     "name": "#%%\n"
    }
   }
  },
  {
   "cell_type": "code",
   "execution_count": 50,
   "outputs": [],
   "source": [
    "res = r.json()"
   ],
   "metadata": {
    "collapsed": false,
    "pycharm": {
     "name": "#%%\n"
    }
   }
  },
  {
   "cell_type": "code",
   "execution_count": 51,
   "outputs": [],
   "source": [
    "stations = res['stations']"
   ],
   "metadata": {
    "collapsed": false,
    "pycharm": {
     "name": "#%%\n"
    }
   }
  },
  {
   "cell_type": "code",
   "execution_count": 52,
   "outputs": [],
   "source": [
    "# stations[0]"
   ],
   "metadata": {
    "collapsed": false,
    "pycharm": {
     "name": "#%%\n"
    }
   }
  },
  {
   "cell_type": "code",
   "execution_count": 53,
   "outputs": [],
   "source": [
    "url = 'http://www.rosneft-azs.ru/map_search'"
   ],
   "metadata": {
    "collapsed": false,
    "pycharm": {
     "name": "#%%\n"
    }
   }
  },
  {
   "cell_type": "code",
   "execution_count": 54,
   "outputs": [
    {
     "data": {
      "text/plain": "  0%|          | 0/2337 [00:00<?, ?it/s]",
      "application/vnd.jupyter.widget-view+json": {
       "version_major": 2,
       "version_minor": 0,
       "model_id": "8d8e7e764c7d4c3bba9eb7a1e02b74c2"
      }
     },
     "metadata": {},
     "output_type": "display_data"
    }
   ],
   "source": [
    "# Формируем словарь со списками для колонок таблицы\n",
    "# tab_dict = {'Azs':[],'Address' :[],'Price92':[],'Price95':[]}\n",
    "tab_dict = defaultdict(list)\n",
    "# Заполняем списки с помощью цикла\n",
    "for station in tqdm(stations):\n",
    "    tab_dict['Azs'].append(station['id'])\n",
    "    tab_dict['Address'].append(station['address'])\n",
    "    for d in station['price']:\n",
    "        if d['type'] == 92:\n",
    "            tab_dict['Price92'].append(d['price'])\n",
    "        elif d['type'] == 95:\n",
    "            tab_dict['Price95'].append(d['price'])"
   ],
   "metadata": {
    "collapsed": false,
    "pycharm": {
     "name": "#%%\n"
    }
   }
  },
  {
   "cell_type": "code",
   "execution_count": 55,
   "outputs": [
    {
     "data": {
      "text/plain": "     Azs                                            Address  Price92  Price95\n0  58520  Ростовская обл., Мясниковский р-н, п. Чалтырь,...    47.04     0.00\n1  58316  Владимирская обл., Судогодский р-н, д. Лаврово...    45.70    49.20\n2  58519  Ростовская обл., г. Ростов-на-Дону, ул. 40 Лет...    47.04    51.44\n3  58509        Калужская обл., г. Калуга, ул. Зерновая, 34    44.40    47.50\n4  58511  Калужская обл., Боровский р-н, г. Балабаново, ...    44.40    47.65",
      "text/html": "<div>\n<style scoped>\n    .dataframe tbody tr th:only-of-type {\n        vertical-align: middle;\n    }\n\n    .dataframe tbody tr th {\n        vertical-align: top;\n    }\n\n    .dataframe thead th {\n        text-align: right;\n    }\n</style>\n<table border=\"1\" class=\"dataframe\">\n  <thead>\n    <tr style=\"text-align: right;\">\n      <th></th>\n      <th>Azs</th>\n      <th>Address</th>\n      <th>Price92</th>\n      <th>Price95</th>\n    </tr>\n  </thead>\n  <tbody>\n    <tr>\n      <th>0</th>\n      <td>58520</td>\n      <td>Ростовская обл., Мясниковский р-н, п. Чалтырь,...</td>\n      <td>47.04</td>\n      <td>0.00</td>\n    </tr>\n    <tr>\n      <th>1</th>\n      <td>58316</td>\n      <td>Владимирская обл., Судогодский р-н, д. Лаврово...</td>\n      <td>45.70</td>\n      <td>49.20</td>\n    </tr>\n    <tr>\n      <th>2</th>\n      <td>58519</td>\n      <td>Ростовская обл., г. Ростов-на-Дону, ул. 40 Лет...</td>\n      <td>47.04</td>\n      <td>51.44</td>\n    </tr>\n    <tr>\n      <th>3</th>\n      <td>58509</td>\n      <td>Калужская обл., г. Калуга, ул. Зерновая, 34</td>\n      <td>44.40</td>\n      <td>47.50</td>\n    </tr>\n    <tr>\n      <th>4</th>\n      <td>58511</td>\n      <td>Калужская обл., Боровский р-н, г. Балабаново, ...</td>\n      <td>44.40</td>\n      <td>47.65</td>\n    </tr>\n  </tbody>\n</table>\n</div>"
     },
     "execution_count": 55,
     "metadata": {},
     "output_type": "execute_result"
    }
   ],
   "source": [
    "rn = pd.DataFrame.from_dict(tab_dict)\n",
    "rn.head()"
   ],
   "metadata": {
    "collapsed": false,
    "pycharm": {
     "name": "#%%\n"
    }
   }
  },
  {
   "cell_type": "code",
   "execution_count": 56,
   "outputs": [],
   "source": [
    "azs = rn.Azs.unique().tolist()"
   ],
   "metadata": {
    "collapsed": false,
    "pycharm": {
     "name": "#%%\n"
    }
   }
  },
  {
   "cell_type": "code",
   "execution_count": 62,
   "outputs": [],
   "source": [],
   "metadata": {
    "collapsed": false,
    "pycharm": {
     "name": "#%%\n"
    }
   }
  },
  {
   "cell_type": "code",
   "execution_count": 66,
   "outputs": [],
   "source": [
    "nums = [x*100 for x in range(len(azs))]"
   ],
   "metadata": {
    "collapsed": false,
    "pycharm": {
     "name": "#%%\n"
    }
   }
  },
  {
   "cell_type": "code",
   "execution_count": 67,
   "outputs": [],
   "source": [
    "rn['nums'] = rn.Azs.map(dict(zip(azs, nums)))"
   ],
   "metadata": {
    "collapsed": false,
    "pycharm": {
     "name": "#%%\n"
    }
   }
  },
  {
   "cell_type": "code",
   "execution_count": 69,
   "outputs": [],
   "source": [
    "rn_new = rn[['Azs','Address']].copy()"
   ],
   "metadata": {
    "collapsed": false,
    "pycharm": {
     "name": "#%%\n"
    }
   }
  },
  {
   "cell_type": "code",
   "execution_count": 71,
   "outputs": [],
   "source": [
    "rn_new.Address = rn_new.Address.apply(lambda x:x.split(',')[0])"
   ],
   "metadata": {
    "collapsed": false,
    "pycharm": {
     "name": "#%%\n"
    }
   }
  },
  {
   "cell_type": "code",
   "execution_count": 74,
   "outputs": [],
   "source": [
    "rn_new = rn_new.rename(columns = {'Address':'Region'})"
   ],
   "metadata": {
    "collapsed": false,
    "pycharm": {
     "name": "#%%\n"
    }
   }
  },
  {
   "cell_type": "code",
   "execution_count": 79,
   "outputs": [
    {
     "data": {
      "text/plain": "         Azs                                            Address  Price92  \\\n0      58520  Ростовская обл., Мясниковский р-н, п. Чалтырь,...    47.04   \n1      58316  Владимирская обл., Судогодский р-н, д. Лаврово...    45.70   \n2      58519  Ростовская обл., г. Ростов-на-Дону, ул. 40 Лет...    47.04   \n3      58509        Калужская обл., г. Калуга, ул. Зерновая, 34    44.40   \n4      58511  Калужская обл., Боровский р-н, г. Балабаново, ...    44.40   \n...      ...                                                ...      ...   \n2332  100515  Ульяновская обл., г. Ульяновск, пр-д 10-й Инже...    45.39   \n2333  100517  Ульяновская обл., г. Ульяновск, пр-т Нариманов...    45.39   \n2334  105501  Хабаровский край, Амурский район, п. Эльбан, у...    48.70   \n2335  113433  Ростовская область г.Ростов-на-Дону, Таганрогс...    46.04   \n2336  121287  Новосибирская обл., г. Новосибирск, ул. Больша...    44.75   \n\n      Price95    nums                               Region  \n0        0.00       0                      Ростовская обл.  \n1       49.20     100                    Владимирская обл.  \n2       51.44     200                      Ростовская обл.  \n3       47.50     300                       Калужская обл.  \n4       47.65     400                       Калужская обл.  \n...       ...     ...                                  ...  \n2332    48.99  233200                     Ульяновская обл.  \n2333    48.99  233300                     Ульяновская обл.  \n2334    50.85  233400                     Хабаровский край  \n2335    50.44  233500  Ростовская область г.Ростов-на-Дону  \n2336    47.75  233600                   Новосибирская обл.  \n\n[2337 rows x 6 columns]",
      "text/html": "<div>\n<style scoped>\n    .dataframe tbody tr th:only-of-type {\n        vertical-align: middle;\n    }\n\n    .dataframe tbody tr th {\n        vertical-align: top;\n    }\n\n    .dataframe thead th {\n        text-align: right;\n    }\n</style>\n<table border=\"1\" class=\"dataframe\">\n  <thead>\n    <tr style=\"text-align: right;\">\n      <th></th>\n      <th>Azs</th>\n      <th>Address</th>\n      <th>Price92</th>\n      <th>Price95</th>\n      <th>nums</th>\n      <th>Region</th>\n    </tr>\n  </thead>\n  <tbody>\n    <tr>\n      <th>0</th>\n      <td>58520</td>\n      <td>Ростовская обл., Мясниковский р-н, п. Чалтырь,...</td>\n      <td>47.04</td>\n      <td>0.00</td>\n      <td>0</td>\n      <td>Ростовская обл.</td>\n    </tr>\n    <tr>\n      <th>1</th>\n      <td>58316</td>\n      <td>Владимирская обл., Судогодский р-н, д. Лаврово...</td>\n      <td>45.70</td>\n      <td>49.20</td>\n      <td>100</td>\n      <td>Владимирская обл.</td>\n    </tr>\n    <tr>\n      <th>2</th>\n      <td>58519</td>\n      <td>Ростовская обл., г. Ростов-на-Дону, ул. 40 Лет...</td>\n      <td>47.04</td>\n      <td>51.44</td>\n      <td>200</td>\n      <td>Ростовская обл.</td>\n    </tr>\n    <tr>\n      <th>3</th>\n      <td>58509</td>\n      <td>Калужская обл., г. Калуга, ул. Зерновая, 34</td>\n      <td>44.40</td>\n      <td>47.50</td>\n      <td>300</td>\n      <td>Калужская обл.</td>\n    </tr>\n    <tr>\n      <th>4</th>\n      <td>58511</td>\n      <td>Калужская обл., Боровский р-н, г. Балабаново, ...</td>\n      <td>44.40</td>\n      <td>47.65</td>\n      <td>400</td>\n      <td>Калужская обл.</td>\n    </tr>\n    <tr>\n      <th>...</th>\n      <td>...</td>\n      <td>...</td>\n      <td>...</td>\n      <td>...</td>\n      <td>...</td>\n      <td>...</td>\n    </tr>\n    <tr>\n      <th>2332</th>\n      <td>100515</td>\n      <td>Ульяновская обл., г. Ульяновск, пр-д 10-й Инже...</td>\n      <td>45.39</td>\n      <td>48.99</td>\n      <td>233200</td>\n      <td>Ульяновская обл.</td>\n    </tr>\n    <tr>\n      <th>2333</th>\n      <td>100517</td>\n      <td>Ульяновская обл., г. Ульяновск, пр-т Нариманов...</td>\n      <td>45.39</td>\n      <td>48.99</td>\n      <td>233300</td>\n      <td>Ульяновская обл.</td>\n    </tr>\n    <tr>\n      <th>2334</th>\n      <td>105501</td>\n      <td>Хабаровский край, Амурский район, п. Эльбан, у...</td>\n      <td>48.70</td>\n      <td>50.85</td>\n      <td>233400</td>\n      <td>Хабаровский край</td>\n    </tr>\n    <tr>\n      <th>2335</th>\n      <td>113433</td>\n      <td>Ростовская область г.Ростов-на-Дону, Таганрогс...</td>\n      <td>46.04</td>\n      <td>50.44</td>\n      <td>233500</td>\n      <td>Ростовская область г.Ростов-на-Дону</td>\n    </tr>\n    <tr>\n      <th>2336</th>\n      <td>121287</td>\n      <td>Новосибирская обл., г. Новосибирск, ул. Больша...</td>\n      <td>44.75</td>\n      <td>47.75</td>\n      <td>233600</td>\n      <td>Новосибирская обл.</td>\n    </tr>\n  </tbody>\n</table>\n<p>2337 rows × 6 columns</p>\n</div>"
     },
     "execution_count": 79,
     "metadata": {},
     "output_type": "execute_result"
    }
   ],
   "source": [
    "pd.merge(rn, rn_new, left_on='Azs', right_on='Azs', how='inner')"
   ],
   "metadata": {
    "collapsed": false,
    "pycharm": {
     "name": "#%%\n"
    }
   }
  },
  {
   "cell_type": "code",
   "execution_count": 86,
   "outputs": [],
   "source": [],
   "metadata": {
    "collapsed": false,
    "pycharm": {
     "name": "#%%\n"
    }
   }
  },
  {
   "cell_type": "code",
   "execution_count": 19,
   "outputs": [
    {
     "data": {
      "text/plain": "'Мясниковский р-н, п. Чалтырь, а/д М23, 9 км, слева'"
     },
     "execution_count": 19,
     "metadata": {},
     "output_type": "execute_result"
    }
   ],
   "source": [
    "','.join(rn.Address[0].split(',')[1:]).strip()"
   ],
   "metadata": {
    "collapsed": false,
    "pycharm": {
     "name": "#%%\n"
    }
   }
  },
  {
   "cell_type": "code",
   "execution_count": 15,
   "outputs": [],
   "source": [
    "rn['Region'] = rn.Address.apply(lambda x:x.split(',')[0])"
   ],
   "metadata": {
    "collapsed": false,
    "pycharm": {
     "name": "#%%\n"
    }
   }
  },
  {
   "cell_type": "code",
   "execution_count": 20,
   "outputs": [],
   "source": [
    "rn['Address_2'] = rn.Address.apply(lambda x:','.join(x.split(',')[1:]).strip())"
   ],
   "metadata": {
    "collapsed": false,
    "pycharm": {
     "name": "#%%\n"
    }
   }
  },
  {
   "cell_type": "code",
   "execution_count": 31,
   "outputs": [
    {
     "data": {
      "text/plain": "     Azs                                            Address  Price92  Price95  \\\n0  58520  Ростовская обл., Мясниковский р-н, п. Чалтырь,...    47.04     0.00   \n2  58519  Ростовская обл., г. Ростов-на-Дону, ул. 40 Лет...    47.04    51.44   \n\n            Region                                          Address_2  \n0  Ростовская обл.  Мясниковский р-н, п. Чалтырь, а/д М23, 9 км, с...  \n2  Ростовская обл.        г. Ростов-на-Дону, ул. 40 Лет Победы, 2Г/51  ",
      "text/html": "<div>\n<style scoped>\n    .dataframe tbody tr th:only-of-type {\n        vertical-align: middle;\n    }\n\n    .dataframe tbody tr th {\n        vertical-align: top;\n    }\n\n    .dataframe thead th {\n        text-align: right;\n    }\n</style>\n<table border=\"1\" class=\"dataframe\">\n  <thead>\n    <tr style=\"text-align: right;\">\n      <th></th>\n      <th>Azs</th>\n      <th>Address</th>\n      <th>Price92</th>\n      <th>Price95</th>\n      <th>Region</th>\n      <th>Address_2</th>\n    </tr>\n  </thead>\n  <tbody>\n    <tr>\n      <th>0</th>\n      <td>58520</td>\n      <td>Ростовская обл., Мясниковский р-н, п. Чалтырь,...</td>\n      <td>47.04</td>\n      <td>0.00</td>\n      <td>Ростовская обл.</td>\n      <td>Мясниковский р-н, п. Чалтырь, а/д М23, 9 км, с...</td>\n    </tr>\n    <tr>\n      <th>2</th>\n      <td>58519</td>\n      <td>Ростовская обл., г. Ростов-на-Дону, ул. 40 Лет...</td>\n      <td>47.04</td>\n      <td>51.44</td>\n      <td>Ростовская обл.</td>\n      <td>г. Ростов-на-Дону, ул. 40 Лет Победы, 2Г/51</td>\n    </tr>\n  </tbody>\n</table>\n</div>"
     },
     "execution_count": 31,
     "metadata": {},
     "output_type": "execute_result"
    }
   ],
   "source": [
    "rn[\n",
    "    (rn.Azs == 58520) | (rn.Azs == 58519)\n",
    "]"
   ],
   "metadata": {
    "collapsed": false,
    "pycharm": {
     "name": "#%%\n"
    }
   }
  },
  {
   "cell_type": "code",
   "execution_count": 32,
   "outputs": [],
   "source": [
    "rn.loc[rn.Address.str.startswith('Рост'), ['Azs','Address']] = 0"
   ],
   "metadata": {
    "collapsed": false,
    "pycharm": {
     "name": "#%%\n"
    }
   }
  },
  {
   "cell_type": "code",
   "execution_count": 33,
   "outputs": [
    {
     "ename": "ValueError",
     "evalue": "Cannot mask with non-boolean array containing NA / NaN values",
     "output_type": "error",
     "traceback": [
      "\u001B[0;31m---------------------------------------------------------------------------\u001B[0m",
      "\u001B[0;31mValueError\u001B[0m                                Traceback (most recent call last)",
      "\u001B[0;32m/var/folders/9z/_pdr4vys3c9_sdhkgcm_5s540000gn/T/ipykernel_42936/2805077709.py\u001B[0m in \u001B[0;36m<module>\u001B[0;34m\u001B[0m\n\u001B[0;32m----> 1\u001B[0;31m \u001B[0mrn\u001B[0m\u001B[0;34m.\u001B[0m\u001B[0mloc\u001B[0m\u001B[0;34m[\u001B[0m\u001B[0mrn\u001B[0m\u001B[0;34m.\u001B[0m\u001B[0mAddress\u001B[0m\u001B[0;34m.\u001B[0m\u001B[0mstr\u001B[0m\u001B[0;34m.\u001B[0m\u001B[0mstartswith\u001B[0m\u001B[0;34m(\u001B[0m\u001B[0;34m'Рост'\u001B[0m\u001B[0;34m)\u001B[0m\u001B[0;34m,\u001B[0m \u001B[0;34m[\u001B[0m\u001B[0;34m'Azs'\u001B[0m\u001B[0;34m,\u001B[0m\u001B[0;34m'Address'\u001B[0m\u001B[0;34m]\u001B[0m\u001B[0;34m]\u001B[0m\u001B[0;34m\u001B[0m\u001B[0;34m\u001B[0m\u001B[0m\n\u001B[0m",
      "\u001B[0;32m~/opt/anaconda3/envs/test/lib/python3.9/site-packages/pandas/core/indexing.py\u001B[0m in \u001B[0;36m__getitem__\u001B[0;34m(self, key)\u001B[0m\n\u001B[1;32m    923\u001B[0m                 \u001B[0;32mwith\u001B[0m \u001B[0msuppress\u001B[0m\u001B[0;34m(\u001B[0m\u001B[0mKeyError\u001B[0m\u001B[0;34m,\u001B[0m \u001B[0mIndexError\u001B[0m\u001B[0;34m)\u001B[0m\u001B[0;34m:\u001B[0m\u001B[0;34m\u001B[0m\u001B[0;34m\u001B[0m\u001B[0m\n\u001B[1;32m    924\u001B[0m                     \u001B[0;32mreturn\u001B[0m \u001B[0mself\u001B[0m\u001B[0;34m.\u001B[0m\u001B[0mobj\u001B[0m\u001B[0;34m.\u001B[0m\u001B[0m_get_value\u001B[0m\u001B[0;34m(\u001B[0m\u001B[0;34m*\u001B[0m\u001B[0mkey\u001B[0m\u001B[0;34m,\u001B[0m \u001B[0mtakeable\u001B[0m\u001B[0;34m=\u001B[0m\u001B[0mself\u001B[0m\u001B[0;34m.\u001B[0m\u001B[0m_takeable\u001B[0m\u001B[0;34m)\u001B[0m\u001B[0;34m\u001B[0m\u001B[0;34m\u001B[0m\u001B[0m\n\u001B[0;32m--> 925\u001B[0;31m             \u001B[0;32mreturn\u001B[0m \u001B[0mself\u001B[0m\u001B[0;34m.\u001B[0m\u001B[0m_getitem_tuple\u001B[0m\u001B[0;34m(\u001B[0m\u001B[0mkey\u001B[0m\u001B[0;34m)\u001B[0m\u001B[0;34m\u001B[0m\u001B[0;34m\u001B[0m\u001B[0m\n\u001B[0m\u001B[1;32m    926\u001B[0m         \u001B[0;32melse\u001B[0m\u001B[0;34m:\u001B[0m\u001B[0;34m\u001B[0m\u001B[0;34m\u001B[0m\u001B[0m\n\u001B[1;32m    927\u001B[0m             \u001B[0;31m# we by definition only have the 0th axis\u001B[0m\u001B[0;34m\u001B[0m\u001B[0;34m\u001B[0m\u001B[0m\n",
      "\u001B[0;32m~/opt/anaconda3/envs/test/lib/python3.9/site-packages/pandas/core/indexing.py\u001B[0m in \u001B[0;36m_getitem_tuple\u001B[0;34m(self, tup)\u001B[0m\n\u001B[1;32m   1104\u001B[0m \u001B[0;34m\u001B[0m\u001B[0m\n\u001B[1;32m   1105\u001B[0m         \u001B[0;31m# ugly hack for GH #836\u001B[0m\u001B[0;34m\u001B[0m\u001B[0;34m\u001B[0m\u001B[0m\n\u001B[0;32m-> 1106\u001B[0;31m         \u001B[0;32mif\u001B[0m \u001B[0mself\u001B[0m\u001B[0;34m.\u001B[0m\u001B[0m_multi_take_opportunity\u001B[0m\u001B[0;34m(\u001B[0m\u001B[0mtup\u001B[0m\u001B[0;34m)\u001B[0m\u001B[0;34m:\u001B[0m\u001B[0;34m\u001B[0m\u001B[0;34m\u001B[0m\u001B[0m\n\u001B[0m\u001B[1;32m   1107\u001B[0m             \u001B[0;32mreturn\u001B[0m \u001B[0mself\u001B[0m\u001B[0;34m.\u001B[0m\u001B[0m_multi_take\u001B[0m\u001B[0;34m(\u001B[0m\u001B[0mtup\u001B[0m\u001B[0;34m)\u001B[0m\u001B[0;34m\u001B[0m\u001B[0;34m\u001B[0m\u001B[0m\n\u001B[1;32m   1108\u001B[0m \u001B[0;34m\u001B[0m\u001B[0m\n",
      "\u001B[0;32m~/opt/anaconda3/envs/test/lib/python3.9/site-packages/pandas/core/indexing.py\u001B[0m in \u001B[0;36m_multi_take_opportunity\u001B[0;34m(self, tup)\u001B[0m\n\u001B[1;32m   1038\u001B[0m \u001B[0;34m\u001B[0m\u001B[0m\n\u001B[1;32m   1039\u001B[0m         \u001B[0;31m# just too complicated\u001B[0m\u001B[0;34m\u001B[0m\u001B[0;34m\u001B[0m\u001B[0m\n\u001B[0;32m-> 1040\u001B[0;31m         \u001B[0;32mreturn\u001B[0m \u001B[0;32mnot\u001B[0m \u001B[0many\u001B[0m\u001B[0;34m(\u001B[0m\u001B[0mcom\u001B[0m\u001B[0;34m.\u001B[0m\u001B[0mis_bool_indexer\u001B[0m\u001B[0;34m(\u001B[0m\u001B[0mx\u001B[0m\u001B[0;34m)\u001B[0m \u001B[0;32mfor\u001B[0m \u001B[0mx\u001B[0m \u001B[0;32min\u001B[0m \u001B[0mtup\u001B[0m\u001B[0;34m)\u001B[0m\u001B[0;34m\u001B[0m\u001B[0;34m\u001B[0m\u001B[0m\n\u001B[0m\u001B[1;32m   1041\u001B[0m \u001B[0;34m\u001B[0m\u001B[0m\n\u001B[1;32m   1042\u001B[0m     \u001B[0;32mdef\u001B[0m \u001B[0m_multi_take\u001B[0m\u001B[0;34m(\u001B[0m\u001B[0mself\u001B[0m\u001B[0;34m,\u001B[0m \u001B[0mtup\u001B[0m\u001B[0;34m:\u001B[0m \u001B[0mtuple\u001B[0m\u001B[0;34m)\u001B[0m\u001B[0;34m:\u001B[0m\u001B[0;34m\u001B[0m\u001B[0;34m\u001B[0m\u001B[0m\n",
      "\u001B[0;32m~/opt/anaconda3/envs/test/lib/python3.9/site-packages/pandas/core/indexing.py\u001B[0m in \u001B[0;36m<genexpr>\u001B[0;34m(.0)\u001B[0m\n\u001B[1;32m   1038\u001B[0m \u001B[0;34m\u001B[0m\u001B[0m\n\u001B[1;32m   1039\u001B[0m         \u001B[0;31m# just too complicated\u001B[0m\u001B[0;34m\u001B[0m\u001B[0;34m\u001B[0m\u001B[0m\n\u001B[0;32m-> 1040\u001B[0;31m         \u001B[0;32mreturn\u001B[0m \u001B[0;32mnot\u001B[0m \u001B[0many\u001B[0m\u001B[0;34m(\u001B[0m\u001B[0mcom\u001B[0m\u001B[0;34m.\u001B[0m\u001B[0mis_bool_indexer\u001B[0m\u001B[0;34m(\u001B[0m\u001B[0mx\u001B[0m\u001B[0;34m)\u001B[0m \u001B[0;32mfor\u001B[0m \u001B[0mx\u001B[0m \u001B[0;32min\u001B[0m \u001B[0mtup\u001B[0m\u001B[0;34m)\u001B[0m\u001B[0;34m\u001B[0m\u001B[0;34m\u001B[0m\u001B[0m\n\u001B[0m\u001B[1;32m   1041\u001B[0m \u001B[0;34m\u001B[0m\u001B[0m\n\u001B[1;32m   1042\u001B[0m     \u001B[0;32mdef\u001B[0m \u001B[0m_multi_take\u001B[0m\u001B[0;34m(\u001B[0m\u001B[0mself\u001B[0m\u001B[0;34m,\u001B[0m \u001B[0mtup\u001B[0m\u001B[0;34m:\u001B[0m \u001B[0mtuple\u001B[0m\u001B[0;34m)\u001B[0m\u001B[0;34m:\u001B[0m\u001B[0;34m\u001B[0m\u001B[0;34m\u001B[0m\u001B[0m\n",
      "\u001B[0;32m~/opt/anaconda3/envs/test/lib/python3.9/site-packages/pandas/core/common.py\u001B[0m in \u001B[0;36mis_bool_indexer\u001B[0;34m(key)\u001B[0m\n\u001B[1;32m    137\u001B[0m                     \u001B[0;31m# Don't raise on e.g. [\"A\", \"B\", np.nan], see\u001B[0m\u001B[0;34m\u001B[0m\u001B[0;34m\u001B[0m\u001B[0m\n\u001B[1;32m    138\u001B[0m                     \u001B[0;31m#  test_loc_getitem_list_of_labels_categoricalindex_with_na\u001B[0m\u001B[0;34m\u001B[0m\u001B[0;34m\u001B[0m\u001B[0m\n\u001B[0;32m--> 139\u001B[0;31m                     \u001B[0;32mraise\u001B[0m \u001B[0mValueError\u001B[0m\u001B[0;34m(\u001B[0m\u001B[0mna_msg\u001B[0m\u001B[0;34m)\u001B[0m\u001B[0;34m\u001B[0m\u001B[0;34m\u001B[0m\u001B[0m\n\u001B[0m\u001B[1;32m    140\u001B[0m                 \u001B[0;32mreturn\u001B[0m \u001B[0;32mFalse\u001B[0m\u001B[0;34m\u001B[0m\u001B[0;34m\u001B[0m\u001B[0m\n\u001B[1;32m    141\u001B[0m             \u001B[0;32mreturn\u001B[0m \u001B[0;32mTrue\u001B[0m\u001B[0;34m\u001B[0m\u001B[0;34m\u001B[0m\u001B[0m\n",
      "\u001B[0;31mValueError\u001B[0m: Cannot mask with non-boolean array containing NA / NaN values"
     ]
    }
   ],
   "source": [
    "rn.loc[rn.Address.str.startswith('Рост'), ['Azs','Address']]"
   ],
   "metadata": {
    "collapsed": false,
    "pycharm": {
     "name": "#%%\n"
    }
   }
  },
  {
   "cell_type": "code",
   "execution_count": 37,
   "outputs": [
    {
     "data": {
      "text/plain": "2        0\n3    58509\nName: Azs, dtype: int64"
     },
     "execution_count": 37,
     "metadata": {},
     "output_type": "execute_result"
    }
   ],
   "source": [
    "rn.iloc[2:4, 0]"
   ],
   "metadata": {
    "collapsed": false,
    "pycharm": {
     "name": "#%%\n"
    }
   }
  },
  {
   "cell_type": "code",
   "execution_count": 38,
   "outputs": [],
   "source": [
    "import os"
   ],
   "metadata": {
    "collapsed": false,
    "pycharm": {
     "name": "#%%\n"
    }
   }
  },
  {
   "cell_type": "code",
   "execution_count": 45,
   "outputs": [],
   "source": [
    "os.mkdir('new_dir')"
   ],
   "metadata": {
    "collapsed": false,
    "pycharm": {
     "name": "#%%\n"
    }
   }
  },
  {
   "cell_type": "code",
   "execution_count": 40,
   "outputs": [
    {
     "name": "stdout",
     "output_type": "stream",
     "text": [
      "fuels.ipynb  \u001B[34mnew_dir\u001B[m\u001B[m/     numpy.ipynb  sel.ipynb    soup.ipynb\r\n"
     ]
    }
   ],
   "source": [
    "ls"
   ],
   "metadata": {
    "collapsed": false,
    "pycharm": {
     "name": "#%%\n"
    }
   }
  },
  {
   "cell_type": "code",
   "execution_count": 41,
   "outputs": [
    {
     "ename": "PermissionError",
     "evalue": "[Errno 1] Operation not permitted: 'new_dir'",
     "output_type": "error",
     "traceback": [
      "\u001B[0;31m---------------------------------------------------------------------------\u001B[0m",
      "\u001B[0;31mPermissionError\u001B[0m                           Traceback (most recent call last)",
      "\u001B[0;32m/var/folders/9z/_pdr4vys3c9_sdhkgcm_5s540000gn/T/ipykernel_42936/2518078971.py\u001B[0m in \u001B[0;36m<module>\u001B[0;34m\u001B[0m\n\u001B[0;32m----> 1\u001B[0;31m \u001B[0mos\u001B[0m\u001B[0;34m.\u001B[0m\u001B[0mremove\u001B[0m\u001B[0;34m(\u001B[0m\u001B[0;34m'new_dir'\u001B[0m\u001B[0;34m)\u001B[0m\u001B[0;34m\u001B[0m\u001B[0;34m\u001B[0m\u001B[0m\n\u001B[0m",
      "\u001B[0;31mPermissionError\u001B[0m: [Errno 1] Operation not permitted: 'new_dir'"
     ]
    }
   ],
   "source": [
    "os.remove('new_dir')"
   ],
   "metadata": {
    "collapsed": false,
    "pycharm": {
     "name": "#%%\n"
    }
   }
  },
  {
   "cell_type": "code",
   "execution_count": 12,
   "outputs": [],
   "source": [
    "# Добавить в таблицу другие виды топлива\n",
    "#----- Ваш код здесь ----"
   ],
   "metadata": {
    "collapsed": false,
    "pycharm": {
     "name": "#%%\n"
    }
   }
  },
  {
   "cell_type": "code",
   "execution_count": null,
   "outputs": [],
   "source": [],
   "metadata": {
    "collapsed": false,
    "pycharm": {
     "name": "#%%\n"
    }
   }
  },
  {
   "cell_type": "code",
   "execution_count": null,
   "outputs": [],
   "source": [
    "# Отделить регионы от адреса АЗС\n",
    "#----- Ваш код здесь ----"
   ],
   "metadata": {
    "collapsed": false,
    "pycharm": {
     "name": "#%%\n"
    }
   }
  },
  {
   "cell_type": "code",
   "execution_count": null,
   "outputs": [],
   "source": [
    "# Выбрать АЗС из Белоруссии и сохранить в rnbelarus\n",
    "#----- Ваш код здесь ---"
   ],
   "metadata": {
    "collapsed": false,
    "pycharm": {
     "name": "#%%\n"
    }
   }
  },
  {
   "cell_type": "code",
   "execution_count": null,
   "outputs": [],
   "source": [
    "# Пересчитать цены rnbelarus в рубли\n",
    "#----- Ваш код здесь ----"
   ],
   "metadata": {
    "collapsed": false,
    "pycharm": {
     "name": "#%%\n"
    }
   }
  },
  {
   "cell_type": "code",
   "execution_count": null,
   "outputs": [],
   "source": [
    "# Убрать АЗС из Белоруссии из таблциы rn\n",
    "#----- Ваш код здесь ----"
   ],
   "metadata": {
    "collapsed": false,
    "pycharm": {
     "name": "#%%\n"
    }
   }
  },
  {
   "cell_type": "code",
   "execution_count": null,
   "outputs": [],
   "source": [
    "# Расчитать средние цены на топливо по регионам\n",
    "#----- Ваш код здесь ----"
   ],
   "metadata": {
    "collapsed": false,
    "pycharm": {
     "name": "#%%\n"
    }
   }
  },
  {
   "cell_type": "code",
   "execution_count": null,
   "outputs": [],
   "source": [
    "# Создать директорию regional_prices\n",
    "#----- Ваш код здесь ----"
   ],
   "metadata": {
    "collapsed": false,
    "pycharm": {
     "name": "#%%\n"
    }
   }
  },
  {
   "cell_type": "code",
   "execution_count": null,
   "outputs": [],
   "source": [
    "# Записать в отдельный .csv файл цены для каждого региона.\n",
    "# Разделить должен быть знак табуляции sep='\\t'\n",
    "# Название файла записать как название региона, заменив пробел на _\n",
    "#----- Ваш код здесь ----"
   ],
   "metadata": {
    "collapsed": false,
    "pycharm": {
     "name": "#%%\n"
    }
   }
  },
  {
   "cell_type": "code",
   "execution_count": null,
   "outputs": [],
   "source": [
    "# Выведите содержимое директории в переменную list_of_files\n",
    "#----- Ваш код здесь ----"
   ],
   "metadata": {
    "collapsed": false,
    "pycharm": {
     "name": "#%%\n"
    }
   }
  },
  {
   "cell_type": "code",
   "execution_count": null,
   "outputs": [],
   "source": [
    "# Создайте словарь regional_prices и заполните его таким образом, чтобы\n",
    "# ключ был название файла без .csv, а значения - список строк, счиатанных из файла\n",
    "#----- Ваш код здесь ----"
   ],
   "metadata": {
    "collapsed": false,
    "pycharm": {
     "name": "#%%\n"
    }
   }
  },
  {
   "cell_type": "code",
   "execution_count": null,
   "outputs": [],
   "source": [
    "# Соберите таблицу rnnew из словаря regional_prices\n",
    "#----- Ваш код здесь ----"
   ],
   "metadata": {
    "collapsed": false,
    "pycharm": {
     "name": "#%%\n"
    }
   }
  }
 ],
 "metadata": {
  "kernelspec": {
   "display_name": "Python 3",
   "language": "python",
   "name": "python3"
  },
  "language_info": {
   "codemirror_mode": {
    "name": "ipython",
    "version": 2
   },
   "file_extension": ".py",
   "mimetype": "text/x-python",
   "name": "python",
   "nbconvert_exporter": "python",
   "pygments_lexer": "ipython2",
   "version": "2.7.6"
  }
 },
 "nbformat": 4,
 "nbformat_minor": 0
}